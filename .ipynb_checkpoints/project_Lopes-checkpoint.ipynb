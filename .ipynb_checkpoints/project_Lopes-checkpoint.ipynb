{
 "cells": [
  {
   "cell_type": "markdown",
   "id": "fa6e4a4c",
   "metadata": {},
   "source": [
    "# App Subscription Project\n",
    "\n",
    "by Carolina S. Lopes\n",
    "\n",
    "**STRV DATA SCIENCE ACADEMY**"
   ]
  },
  {
   "cell_type": "markdown",
   "id": "1879846e",
   "metadata": {},
   "source": [
    "## Defining the business problem"
   ]
  },
  {
   "cell_type": "markdown",
   "id": "a3150155",
   "metadata": {},
   "source": [
    "## Data Acquisition"
   ]
  },
  {
   "cell_type": "markdown",
   "id": "4af384ac",
   "metadata": {},
   "source": [
    "#### Importing libraries"
   ]
  },
  {
   "cell_type": "markdown",
   "id": "50b7c195",
   "metadata": {},
   "source": [
    "We'll start our analysis by loading all necessary Python libraries required to perform our project:"
   ]
  },
  {
   "cell_type": "code",
   "execution_count": 47,
   "id": "95293452",
   "metadata": {},
   "outputs": [],
   "source": [
    "import numpy as np\n",
    "import pandas as pd\n",
    "import seaborn as sns\n",
    "import matplotlib.pyplot as plt\n",
    "\n",
    "# ---\n",
    "from itertools import product, combinations\n",
    "from scipy.stats import chi2_contingency\n",
    "\n",
    "# ---\n",
    "from sklearn.model_selection import train_test_split\n",
    "from sklearn.preprocessing import OneHotEncoder, StandardScaler, MinMaxScaler\n",
    "from sklearn.compose import ColumnTransformer\n",
    "from sklearn.pipeline import Pipeline\n",
    "from sklearn.linear_model import LogisticRegression\n",
    "from sklearn.ensemble import RandomForestClassifier"
   ]
  },
  {
   "cell_type": "markdown",
   "id": "32c9ed05",
   "metadata": {},
   "source": [
    "#### Loading dataset"
   ]
  },
  {
   "cell_type": "markdown",
   "id": "d739cc26",
   "metadata": {},
   "source": [
    "The project's main dataset is available on the Kaggle platform. \n",
    "In order to download it, please check this [link](https://www.kaggle.com/datasets/hkhamnakhalid/customers-to-subscription-through-app-behavior).\n",
    "\n",
    "After downloading the dataset, we need to provide the filepath in order to read it with the help of pandas library."
   ]
  },
  {
   "cell_type": "code",
   "execution_count": 2,
   "id": "e7980dad",
   "metadata": {},
   "outputs": [],
   "source": [
    "df = pd.read_csv('/Users/csergilo/Desktop/strv-ds-academy/app-subscription-strv-academy/datasets/FineTech_appData.csv')"
   ]
  },
  {
   "cell_type": "markdown",
   "id": "5208ea21",
   "metadata": {},
   "source": [
    "Let's check if the loaded dataset is consistent to what is available on Kaggle page."
   ]
  },
  {
   "cell_type": "code",
   "execution_count": 3,
   "id": "28bff1ac",
   "metadata": {},
   "outputs": [
    {
     "data": {
      "text/html": [
       "<div>\n",
       "<style scoped>\n",
       "    .dataframe tbody tr th:only-of-type {\n",
       "        vertical-align: middle;\n",
       "    }\n",
       "\n",
       "    .dataframe tbody tr th {\n",
       "        vertical-align: top;\n",
       "    }\n",
       "\n",
       "    .dataframe thead th {\n",
       "        text-align: right;\n",
       "    }\n",
       "</style>\n",
       "<table border=\"1\" class=\"dataframe\">\n",
       "  <thead>\n",
       "    <tr style=\"text-align: right;\">\n",
       "      <th></th>\n",
       "      <th>user</th>\n",
       "      <th>first_open</th>\n",
       "      <th>dayofweek</th>\n",
       "      <th>hour</th>\n",
       "      <th>age</th>\n",
       "      <th>screen_list</th>\n",
       "      <th>numscreens</th>\n",
       "      <th>minigame</th>\n",
       "      <th>used_premium_feature</th>\n",
       "      <th>enrolled</th>\n",
       "      <th>enrolled_date</th>\n",
       "      <th>liked</th>\n",
       "    </tr>\n",
       "  </thead>\n",
       "  <tbody>\n",
       "    <tr>\n",
       "      <th>0</th>\n",
       "      <td>235136</td>\n",
       "      <td>2012-12-27 02:14:51.273</td>\n",
       "      <td>3</td>\n",
       "      <td>02:00:00</td>\n",
       "      <td>23</td>\n",
       "      <td>idscreen,joinscreen,Cycle,product_review,ScanP...</td>\n",
       "      <td>15</td>\n",
       "      <td>0</td>\n",
       "      <td>0</td>\n",
       "      <td>0</td>\n",
       "      <td>NaN</td>\n",
       "      <td>0</td>\n",
       "    </tr>\n",
       "    <tr>\n",
       "      <th>1</th>\n",
       "      <td>333588</td>\n",
       "      <td>2012-12-02 01:16:00.905</td>\n",
       "      <td>6</td>\n",
       "      <td>01:00:00</td>\n",
       "      <td>24</td>\n",
       "      <td>joinscreen,product_review,product_review2,Scan...</td>\n",
       "      <td>13</td>\n",
       "      <td>0</td>\n",
       "      <td>0</td>\n",
       "      <td>0</td>\n",
       "      <td>NaN</td>\n",
       "      <td>0</td>\n",
       "    </tr>\n",
       "    <tr>\n",
       "      <th>2</th>\n",
       "      <td>254414</td>\n",
       "      <td>2013-03-19 19:19:09.157</td>\n",
       "      <td>1</td>\n",
       "      <td>19:00:00</td>\n",
       "      <td>23</td>\n",
       "      <td>Splash,Cycle,Loan</td>\n",
       "      <td>3</td>\n",
       "      <td>0</td>\n",
       "      <td>1</td>\n",
       "      <td>0</td>\n",
       "      <td>NaN</td>\n",
       "      <td>1</td>\n",
       "    </tr>\n",
       "    <tr>\n",
       "      <th>3</th>\n",
       "      <td>234192</td>\n",
       "      <td>2013-07-05 16:08:46.354</td>\n",
       "      <td>4</td>\n",
       "      <td>16:00:00</td>\n",
       "      <td>28</td>\n",
       "      <td>product_review,Home,product_review,Loan3,Finan...</td>\n",
       "      <td>40</td>\n",
       "      <td>0</td>\n",
       "      <td>0</td>\n",
       "      <td>1</td>\n",
       "      <td>2013-07-05 16:11:49.513</td>\n",
       "      <td>0</td>\n",
       "    </tr>\n",
       "    <tr>\n",
       "      <th>4</th>\n",
       "      <td>51549</td>\n",
       "      <td>2013-02-26 18:50:48.661</td>\n",
       "      <td>1</td>\n",
       "      <td>18:00:00</td>\n",
       "      <td>31</td>\n",
       "      <td>idscreen,joinscreen,Cycle,Credit3Container,Sca...</td>\n",
       "      <td>32</td>\n",
       "      <td>0</td>\n",
       "      <td>0</td>\n",
       "      <td>1</td>\n",
       "      <td>2013-02-26 18:56:37.841</td>\n",
       "      <td>1</td>\n",
       "    </tr>\n",
       "  </tbody>\n",
       "</table>\n",
       "</div>"
      ],
      "text/plain": [
       "     user               first_open  dayofweek       hour  age  \\\n",
       "0  235136  2012-12-27 02:14:51.273          3   02:00:00   23   \n",
       "1  333588  2012-12-02 01:16:00.905          6   01:00:00   24   \n",
       "2  254414  2013-03-19 19:19:09.157          1   19:00:00   23   \n",
       "3  234192  2013-07-05 16:08:46.354          4   16:00:00   28   \n",
       "4   51549  2013-02-26 18:50:48.661          1   18:00:00   31   \n",
       "\n",
       "                                         screen_list  numscreens  minigame  \\\n",
       "0  idscreen,joinscreen,Cycle,product_review,ScanP...          15         0   \n",
       "1  joinscreen,product_review,product_review2,Scan...          13         0   \n",
       "2                                  Splash,Cycle,Loan           3         0   \n",
       "3  product_review,Home,product_review,Loan3,Finan...          40         0   \n",
       "4  idscreen,joinscreen,Cycle,Credit3Container,Sca...          32         0   \n",
       "\n",
       "   used_premium_feature  enrolled            enrolled_date  liked  \n",
       "0                     0         0                      NaN      0  \n",
       "1                     0         0                      NaN      0  \n",
       "2                     1         0                      NaN      1  \n",
       "3                     0         1  2013-07-05 16:11:49.513      0  \n",
       "4                     0         1  2013-02-26 18:56:37.841      1  "
      ]
     },
     "execution_count": 3,
     "metadata": {},
     "output_type": "execute_result"
    }
   ],
   "source": [
    "df.head()"
   ]
  },
  {
   "cell_type": "markdown",
   "id": "7af2998c",
   "metadata": {},
   "source": [
    "Great! The dataset was uploaded as expected. We can now proceed with the Data Wrangling workflow."
   ]
  },
  {
   "cell_type": "markdown",
   "id": "88535941",
   "metadata": {},
   "source": [
    "---"
   ]
  },
  {
   "cell_type": "markdown",
   "id": "bbac15bc",
   "metadata": {},
   "source": [
    "## Data Wrangling"
   ]
  },
  {
   "cell_type": "markdown",
   "id": "130e4dc0",
   "metadata": {},
   "source": [
    "The number of rows and columns of the dataframe can be checked with the `pd.DataFrame.shape` method as below, and the output is given in the format (rows, columns)"
   ]
  },
  {
   "cell_type": "code",
   "execution_count": 4,
   "id": "c946ffd8",
   "metadata": {},
   "outputs": [
    {
     "data": {
      "text/plain": [
       "(50000, 12)"
      ]
     },
     "execution_count": 4,
     "metadata": {},
     "output_type": "execute_result"
    }
   ],
   "source": [
    "df.shape"
   ]
  },
  {
   "cell_type": "markdown",
   "id": "2292993c",
   "metadata": {},
   "source": [
    "Let's see if the column names are indicative of what they represent, and if they are consistent "
   ]
  },
  {
   "cell_type": "code",
   "execution_count": 5,
   "id": "25e1b9e9",
   "metadata": {},
   "outputs": [
    {
     "data": {
      "text/plain": [
       "Index(['user', 'first_open', 'dayofweek', 'hour', 'age', 'screen_list',\n",
       "       'numscreens', 'minigame', 'used_premium_feature', 'enrolled',\n",
       "       'enrolled_date', 'liked'],\n",
       "      dtype='object')"
      ]
     },
     "execution_count": 5,
     "metadata": {},
     "output_type": "execute_result"
    }
   ],
   "source": [
    "df.columns"
   ]
  },
  {
   "cell_type": "markdown",
   "id": "f67ba334",
   "metadata": {},
   "source": [
    "Another important step during Data Wrangling consists in checking the datatypes for each column, and confirm that they correspond to what we expect. In case they don't, we need to cast our data to the correct datatype."
   ]
  },
  {
   "cell_type": "code",
   "execution_count": 6,
   "id": "a4bf7b77",
   "metadata": {},
   "outputs": [
    {
     "data": {
      "text/plain": [
       "user                     int64\n",
       "first_open              object\n",
       "dayofweek                int64\n",
       "hour                    object\n",
       "age                      int64\n",
       "screen_list             object\n",
       "numscreens               int64\n",
       "minigame                 int64\n",
       "used_premium_feature     int64\n",
       "enrolled                 int64\n",
       "enrolled_date           object\n",
       "liked                    int64\n",
       "dtype: object"
      ]
     },
     "execution_count": 6,
     "metadata": {},
     "output_type": "execute_result"
    }
   ],
   "source": [
    "df.dtypes"
   ]
  },
  {
   "cell_type": "markdown",
   "id": "d7ab481b",
   "metadata": {},
   "source": [
    "Another important step is to check whether we have any missing values on our columns:"
   ]
  },
  {
   "cell_type": "code",
   "execution_count": 7,
   "id": "bb54a542",
   "metadata": {},
   "outputs": [
    {
     "data": {
      "text/plain": [
       "user                        0\n",
       "first_open                  0\n",
       "dayofweek                   0\n",
       "hour                        0\n",
       "age                         0\n",
       "screen_list                 0\n",
       "numscreens                  0\n",
       "minigame                    0\n",
       "used_premium_feature        0\n",
       "enrolled                    0\n",
       "enrolled_date           18926\n",
       "liked                       0\n",
       "dtype: int64"
      ]
     },
     "execution_count": 7,
     "metadata": {},
     "output_type": "execute_result"
    }
   ],
   "source": [
    "df.isnull().sum()"
   ]
  },
  {
   "cell_type": "markdown",
   "id": "2e35bb27",
   "metadata": {},
   "source": [
    "We can see above that there are many missing entries in the \"enrolled_date\" column. This makes sense, as no date should appear in this field if the user didn't subscribe to the app Premium features."
   ]
  },
  {
   "cell_type": "markdown",
   "id": "a02d0adb",
   "metadata": {},
   "source": [
    "Missing data can also appear as entries with null value (0). Depending on the column, this may affect the output of any statistical calculations for that column, as the mean, median, etc.\n",
    "\n",
    "In the case of our project, a column that could present zero values and mislead our analysis corresponds to the \"age\". Or are there any babies dealing with FinTech apps already? 🤔"
   ]
  },
  {
   "cell_type": "code",
   "execution_count": 8,
   "id": "d83adafc",
   "metadata": {},
   "outputs": [
    {
     "data": {
      "text/plain": [
       "0"
      ]
     },
     "execution_count": 8,
     "metadata": {},
     "output_type": "execute_result"
    }
   ],
   "source": [
    "sum([value == 0 for value in df['age']])"
   ]
  },
  {
   "cell_type": "markdown",
   "id": "8b1848b2",
   "metadata": {},
   "source": [
    "Okay, that seems good! Just to be sure, let's also check if any users haven't actually interacted with the app (that is, if there's any entry where `df['numscreens']` is equal to zero)."
   ]
  },
  {
   "cell_type": "code",
   "execution_count": 9,
   "id": "645dbbf1",
   "metadata": {},
   "outputs": [
    {
     "data": {
      "text/plain": [
       "0"
      ]
     },
     "execution_count": 9,
     "metadata": {},
     "output_type": "execute_result"
    }
   ],
   "source": [
    "sum([value == 0 for value in df['numscreens']])"
   ]
  },
  {
   "cell_type": "markdown",
   "id": "6e163cd2",
   "metadata": {},
   "source": [
    "As nothing seems suspicious with our dataset for now, let's check our unique values! With this step, we can infer if our columns correspond to numerical or categorical variables. And how is that? Well, categorical variables usually have a low amount of unique values, different from numerical variables."
   ]
  },
  {
   "cell_type": "code",
   "execution_count": 10,
   "id": "b613d413",
   "metadata": {},
   "outputs": [
    {
     "data": {
      "text/plain": [
       "user                    49874\n",
       "first_open              49747\n",
       "dayofweek                   7\n",
       "hour                       24\n",
       "age                        78\n",
       "screen_list             38799\n",
       "numscreens                151\n",
       "minigame                    2\n",
       "used_premium_feature        2\n",
       "enrolled                    2\n",
       "enrolled_date           31001\n",
       "liked                       2\n",
       "dtype: int64"
      ]
     },
     "execution_count": 10,
     "metadata": {},
     "output_type": "execute_result"
    }
   ],
   "source": [
    "df.nunique()"
   ]
  },
  {
   "cell_type": "markdown",
   "id": "f886acb1",
   "metadata": {},
   "source": [
    "<details>\n",
    "<summary> <b> Interesting! Click here to check what this output means <b> </summary>\n",
    "    \n",
    "\n",
    "**Categorical variables**\n",
    "\n",
    "- **user**: unique values corresponding to user ID\n",
    "\n",
    "- **dayofweek:** values ranging from 0 (\"Monday\") to 6 (\"Sunday\"), corresponding to the day of the week\n",
    "\n",
    "- **hour:** time category from 00:00:00 to 23:00:00 corresponding to the *first_open* variable\n",
    "\n",
    "- **minigame:** \n",
    "    - 0 → user didn't minigame\n",
    "    - 1 → user played minigame\n",
    "\n",
    "- **used_premium_feature:** \n",
    "    - 0 → user haven't used a Premium feature\n",
    "    - 1 → Premium feature was used\n",
    "        \n",
    "- **liked:** \n",
    "    - 0 → user haven't liked/rated the app\n",
    "    - 1 → user likes the app\n",
    "\n",
    "**Numerical Variables**\n",
    "\n",
    "- **age:** user ages\n",
    "\n",
    "- **numscreens:** number of screens visited by the user\n",
    "\n",
    "**Dates**\n",
    "\n",
    "- **first_open:** time at which user created the account\n",
    "\n",
    "- **enrolled_date:** day at which user subscribed to Premium\n",
    "\n",
    "    \n",
    "    \n",
    "</details>"
   ]
  },
  {
   "cell_type": "markdown",
   "id": "04f83767",
   "metadata": {},
   "source": [
    "If we take a look at the output above, it seems that we have some non-unique users in our dataset (as we don't have 50000 unique entries). We should check for duplicate user entries in our dataframe:"
   ]
  },
  {
   "cell_type": "code",
   "execution_count": 11,
   "id": "d2993f4e",
   "metadata": {},
   "outputs": [
    {
     "data": {
      "text/plain": [
       "126"
      ]
     },
     "execution_count": 11,
     "metadata": {},
     "output_type": "execute_result"
    }
   ],
   "source": [
    "df.duplicated(subset=['user']).sum()"
   ]
  },
  {
   "cell_type": "markdown",
   "id": "3deb9d70",
   "metadata": {},
   "source": [
    "Ok, 126 user ids are duplicated. Comparing that with the amount of duplicated rows:"
   ]
  },
  {
   "cell_type": "code",
   "execution_count": 12,
   "id": "d1dfe1ea",
   "metadata": {},
   "outputs": [
    {
     "data": {
      "text/plain": [
       "15"
      ]
     },
     "execution_count": 12,
     "metadata": {},
     "output_type": "execute_result"
    }
   ],
   "source": [
    "df.duplicated().sum()"
   ]
  },
  {
   "cell_type": "markdown",
   "id": "9c862a14",
   "metadata": {},
   "source": [
    "Ok, so from the 126 duplicated users only 15 of them are duplicated rows that we can drop without second thoughts. Let us first remove the duplicated rows, and then check the duplicated users in more detail:"
   ]
  },
  {
   "cell_type": "code",
   "execution_count": 13,
   "id": "0139cddb",
   "metadata": {
    "scrolled": true
   },
   "outputs": [],
   "source": [
    "df = df.drop_duplicates()"
   ]
  },
  {
   "cell_type": "code",
   "execution_count": 14,
   "id": "4ea85c8f",
   "metadata": {},
   "outputs": [
    {
     "data": {
      "text/html": [
       "<div>\n",
       "<style scoped>\n",
       "    .dataframe tbody tr th:only-of-type {\n",
       "        vertical-align: middle;\n",
       "    }\n",
       "\n",
       "    .dataframe tbody tr th {\n",
       "        vertical-align: top;\n",
       "    }\n",
       "\n",
       "    .dataframe thead th {\n",
       "        text-align: right;\n",
       "    }\n",
       "</style>\n",
       "<table border=\"1\" class=\"dataframe\">\n",
       "  <thead>\n",
       "    <tr style=\"text-align: right;\">\n",
       "      <th></th>\n",
       "      <th>user</th>\n",
       "      <th>first_open</th>\n",
       "      <th>dayofweek</th>\n",
       "      <th>hour</th>\n",
       "      <th>age</th>\n",
       "      <th>screen_list</th>\n",
       "      <th>numscreens</th>\n",
       "      <th>minigame</th>\n",
       "      <th>used_premium_feature</th>\n",
       "      <th>enrolled</th>\n",
       "      <th>enrolled_date</th>\n",
       "      <th>liked</th>\n",
       "    </tr>\n",
       "  </thead>\n",
       "  <tbody>\n",
       "    <tr>\n",
       "      <th>20029</th>\n",
       "      <td>2477</td>\n",
       "      <td>2013-04-15 17:45:44.684</td>\n",
       "      <td>0</td>\n",
       "      <td>17:00:00</td>\n",
       "      <td>29</td>\n",
       "      <td>Loan2,Loan</td>\n",
       "      <td>3</td>\n",
       "      <td>0</td>\n",
       "      <td>1</td>\n",
       "      <td>0</td>\n",
       "      <td>NaN</td>\n",
       "      <td>0</td>\n",
       "    </tr>\n",
       "    <tr>\n",
       "      <th>27838</th>\n",
       "      <td>2477</td>\n",
       "      <td>2013-04-15 17:45:44.684</td>\n",
       "      <td>0</td>\n",
       "      <td>17:00:00</td>\n",
       "      <td>27</td>\n",
       "      <td>Loan2,Loan</td>\n",
       "      <td>3</td>\n",
       "      <td>0</td>\n",
       "      <td>1</td>\n",
       "      <td>0</td>\n",
       "      <td>NaN</td>\n",
       "      <td>0</td>\n",
       "    </tr>\n",
       "    <tr>\n",
       "      <th>49052</th>\n",
       "      <td>5867</td>\n",
       "      <td>2013-02-11 08:46:43.530</td>\n",
       "      <td>0</td>\n",
       "      <td>08:00:00</td>\n",
       "      <td>27</td>\n",
       "      <td>Cycle,Home,Institutions,SelectInstitution,Bank...</td>\n",
       "      <td>18</td>\n",
       "      <td>0</td>\n",
       "      <td>0</td>\n",
       "      <td>0</td>\n",
       "      <td>NaN</td>\n",
       "      <td>1</td>\n",
       "    </tr>\n",
       "    <tr>\n",
       "      <th>49397</th>\n",
       "      <td>5867</td>\n",
       "      <td>2013-02-11 08:46:43.530</td>\n",
       "      <td>0</td>\n",
       "      <td>08:00:00</td>\n",
       "      <td>26</td>\n",
       "      <td>Cycle,Home,Institutions,SelectInstitution,Bank...</td>\n",
       "      <td>18</td>\n",
       "      <td>0</td>\n",
       "      <td>0</td>\n",
       "      <td>0</td>\n",
       "      <td>NaN</td>\n",
       "      <td>1</td>\n",
       "    </tr>\n",
       "    <tr>\n",
       "      <th>49509</th>\n",
       "      <td>8767</td>\n",
       "      <td>2013-05-14 23:24:19.949</td>\n",
       "      <td>1</td>\n",
       "      <td>23:00:00</td>\n",
       "      <td>36</td>\n",
       "      <td>Splash,idscreen,Cycle,product_review,product_r...</td>\n",
       "      <td>22</td>\n",
       "      <td>0</td>\n",
       "      <td>0</td>\n",
       "      <td>1</td>\n",
       "      <td>2013-05-14 23:25:45.033</td>\n",
       "      <td>0</td>\n",
       "    </tr>\n",
       "    <tr>\n",
       "      <th>43600</th>\n",
       "      <td>8767</td>\n",
       "      <td>2013-05-14 23:24:19.949</td>\n",
       "      <td>1</td>\n",
       "      <td>23:00:00</td>\n",
       "      <td>34</td>\n",
       "      <td>Splash,idscreen,Cycle,product_review,product_r...</td>\n",
       "      <td>22</td>\n",
       "      <td>0</td>\n",
       "      <td>0</td>\n",
       "      <td>1</td>\n",
       "      <td>2013-05-14 23:25:45.033</td>\n",
       "      <td>0</td>\n",
       "    </tr>\n",
       "  </tbody>\n",
       "</table>\n",
       "</div>"
      ],
      "text/plain": [
       "       user               first_open  dayofweek       hour  age  \\\n",
       "20029  2477  2013-04-15 17:45:44.684          0   17:00:00   29   \n",
       "27838  2477  2013-04-15 17:45:44.684          0   17:00:00   27   \n",
       "49052  5867  2013-02-11 08:46:43.530          0   08:00:00   27   \n",
       "49397  5867  2013-02-11 08:46:43.530          0   08:00:00   26   \n",
       "49509  8767  2013-05-14 23:24:19.949          1   23:00:00   36   \n",
       "43600  8767  2013-05-14 23:24:19.949          1   23:00:00   34   \n",
       "\n",
       "                                             screen_list  numscreens  \\\n",
       "20029                                         Loan2,Loan           3   \n",
       "27838                                         Loan2,Loan           3   \n",
       "49052  Cycle,Home,Institutions,SelectInstitution,Bank...          18   \n",
       "49397  Cycle,Home,Institutions,SelectInstitution,Bank...          18   \n",
       "49509  Splash,idscreen,Cycle,product_review,product_r...          22   \n",
       "43600  Splash,idscreen,Cycle,product_review,product_r...          22   \n",
       "\n",
       "       minigame  used_premium_feature  enrolled            enrolled_date  \\\n",
       "20029         0                     1         0                      NaN   \n",
       "27838         0                     1         0                      NaN   \n",
       "49052         0                     0         0                      NaN   \n",
       "49397         0                     0         0                      NaN   \n",
       "49509         0                     0         1  2013-05-14 23:25:45.033   \n",
       "43600         0                     0         1  2013-05-14 23:25:45.033   \n",
       "\n",
       "       liked  \n",
       "20029      0  \n",
       "27838      0  \n",
       "49052      1  \n",
       "49397      1  \n",
       "49509      0  \n",
       "43600      0  "
      ]
     },
     "execution_count": 14,
     "metadata": {},
     "output_type": "execute_result"
    }
   ],
   "source": [
    "user = df['user']\n",
    "\n",
    "df_dupl = df[user.isin(user[user.duplicated()])].sort_values(by = ['user'])\n",
    "df_dupl.head(6)"
   ]
  },
  {
   "cell_type": "markdown",
   "id": "2127c0ea",
   "metadata": {},
   "source": [
    "We can see that many of the duplicated users have inconsistent ages, and inconsistent data can affect the accuracy of our machine learning algorithm. \n",
    "\n",
    "How many non-problematic entries do we have, that is, how many of these rows have actually consistent user ages?"
   ]
  },
  {
   "cell_type": "code",
   "execution_count": 15,
   "id": "0238adf5",
   "metadata": {},
   "outputs": [
    {
     "name": "stdout",
     "output_type": "stream",
     "text": [
      "13\n"
     ]
    }
   ],
   "source": [
    "# users = df_dupl['user'].to_numpy()\n",
    "# print(sum(users[::2] == users[1::2])) # compares both duplicated user entries. all even and odd entries are equal!\n",
    "\n",
    "ages = df_dupl['age'].to_numpy()\n",
    "print(sum(ages[::2] == ages[1::2])) # compares both duplicated user entries (even and odd indices)"
   ]
  },
  {
   "cell_type": "markdown",
   "id": "2c2c1b90",
   "metadata": {},
   "source": [
    "This means that most of our duplicated users are in fact inconsistent in the user ages. Let's then delete all duplicate user entries and updating our dataset:"
   ]
  },
  {
   "cell_type": "code",
   "execution_count": 16,
   "id": "a09a4b10",
   "metadata": {},
   "outputs": [],
   "source": [
    "df = df.drop_duplicates(subset=['user'])"
   ]
  },
  {
   "cell_type": "markdown",
   "id": "b80bbd47",
   "metadata": {},
   "source": [
    "Resetting the dataframe indices:"
   ]
  },
  {
   "cell_type": "code",
   "execution_count": 17,
   "id": "cf1de6de",
   "metadata": {},
   "outputs": [],
   "source": [
    "df.reset_index(drop=True, inplace=True)"
   ]
  },
  {
   "cell_type": "markdown",
   "id": "1d3532ca",
   "metadata": {},
   "source": [
    "Now we're good to go! Focusing back on our categorical and numerical variables: Let's create some new binned categories to enrich our analysis! These categories can be used instead of the numerical columns if they prove themselves to be better adjusted to our ML predictions."
   ]
  },
  {
   "cell_type": "markdown",
   "id": "c682f5b0",
   "metadata": {},
   "source": [
    "1. New column containing the period the day in which the user created the account"
   ]
  },
  {
   "cell_type": "code",
   "execution_count": 18,
   "id": "52e842c7",
   "metadata": {},
   "outputs": [],
   "source": [
    "# day periods: (0) night (1) morning (2) afternoon (3) evening\n",
    "\n",
    "df['hour'] = df['hour'].apply(lambda value: int(value.strip()[0:2]))\n",
    "df['dayperiod'] = df['hour'].apply(lambda value: ((0 if value >= 0 and value <= 5 else 1) if value <= 11 else 2) if value <= 17 else 3)"
   ]
  },
  {
   "cell_type": "markdown",
   "id": "4fd2cb87",
   "metadata": {},
   "source": [
    "2. New column dividing the user age in groups. This may help with unbalanced/skewed data."
   ]
  },
  {
   "cell_type": "code",
   "execution_count": 90,
   "id": "a55846bd",
   "metadata": {},
   "outputs": [],
   "source": [
    "# age groups: (0) 18-24 (1) 25-34 (2) 35-44 (3) 45-54 (4) 55-64 (5) 65+\n",
    "\n",
    "df['age_group'] = df['age'].apply(lambda age: ((((0 if age >= 18 and age <= 24 else 1) if age <= 34 else 2) if age <= 44 else 3) if age <= 54 else 4) if age <= 64 else 5)"
   ]
  },
  {
   "cell_type": "markdown",
   "id": "8cab0586",
   "metadata": {},
   "source": [
    "3. New column counting the days it took for the user to subscribe to Premium after creating their accounts"
   ]
  },
  {
   "cell_type": "code",
   "execution_count": 20,
   "id": "2b35fd05",
   "metadata": {},
   "outputs": [],
   "source": [
    "df.enrolled_date = pd.to_datetime(df.enrolled_date)\n",
    "df.first_open = pd.to_datetime(df.first_open)\n",
    "\n",
    "df['days_to_enroll'] = round((df.enrolled_date - df.first_open) / pd.Timedelta(days=1))"
   ]
  },
  {
   "cell_type": "markdown",
   "id": "a4118dc7",
   "metadata": {},
   "source": [
    "Getting back to our dataframe, there's one column that needs our special attention: the \"screen_list\" column. If we scroll up a bit, we can see that this column has more than 38000 unique values. That is because the entries correspond to strings with all screens that a given user has visited. Since we have many different screens that the user can interact with, the number of their possible combinations is too high."
   ]
  },
  {
   "cell_type": "markdown",
   "id": "adbcd5fe",
   "metadata": {},
   "source": [
    "To start using this data, we can first turn the \"screen_list\" entries into actual lists with the screen names:"
   ]
  },
  {
   "cell_type": "code",
   "execution_count": 21,
   "id": "deeeff19",
   "metadata": {},
   "outputs": [],
   "source": [
    "df['screen_list'] = df['screen_list'].apply(lambda x: x.split(','))"
   ]
  },
  {
   "cell_type": "markdown",
   "id": "7ccd8607",
   "metadata": {},
   "source": [
    "And then check with how many and which unique screen names we're actually dealing with:"
   ]
  },
  {
   "cell_type": "code",
   "execution_count": 22,
   "id": "71116ce8",
   "metadata": {},
   "outputs": [],
   "source": [
    "list_items = df['screen_list'].notnull() # to only consider non-null entries\n",
    "all_screens = set()\n",
    "\n",
    "# Looping through the true/false values that correspond to our non-null and null lists in each row:\n",
    "for i, item in enumerate(list_items): \n",
    "        \n",
    "    if item == True:\n",
    "\n",
    "            # variable corresponding to the list itself\n",
    "            entry = df['screen_list'][i]\n",
    "\n",
    "            for j in entry:\n",
    "\n",
    "                # adds the screen contained in the list to a set to avoid repeated values\n",
    "                all_screens.add(j)"
   ]
  },
  {
   "cell_type": "code",
   "execution_count": 23,
   "id": "50775eca",
   "metadata": {},
   "outputs": [
    {
     "data": {
      "text/plain": [
       "137"
      ]
     },
     "execution_count": 23,
     "metadata": {},
     "output_type": "execute_result"
    }
   ],
   "source": [
    "total_screens = len(all_screens)\n",
    "total_screens"
   ]
  },
  {
   "cell_type": "markdown",
   "id": "a664009c",
   "metadata": {},
   "source": [
    "So our app has 137 different screens. If you run the cell below, you can check what are these screens:"
   ]
  },
  {
   "cell_type": "code",
   "execution_count": 24,
   "id": "91098766",
   "metadata": {},
   "outputs": [
    {
     "data": {
      "text/plain": [
       "{'About',\n",
       " 'AccountView',\n",
       " 'AddProperty',\n",
       " 'AddVehicle',\n",
       " 'AdverseActions',\n",
       " 'Alerts',\n",
       " 'BVPlaidLinkContainer',\n",
       " 'BVStats',\n",
       " 'BankVerification',\n",
       " 'BoostFriendsList',\n",
       " 'CC1',\n",
       " 'CC1Category',\n",
       " 'CC3',\n",
       " 'CameraScreen',\n",
       " 'CommunityAndInvites',\n",
       " 'ContactInfoConfirm',\n",
       " 'Credit1',\n",
       " 'Credit2',\n",
       " 'Credit3',\n",
       " 'Credit3Alerts',\n",
       " 'Credit3CTA',\n",
       " 'Credit3Container',\n",
       " 'Credit3Dashboard',\n",
       " 'Credits',\n",
       " 'Cycle',\n",
       " 'EditProfile',\n",
       " 'EmploymentInfo',\n",
       " 'EmploymentSummary',\n",
       " 'Finances',\n",
       " 'FindFriendsCycle',\n",
       " 'ForgotPassword',\n",
       " 'GroupedInstitutions',\n",
       " 'History',\n",
       " 'Home',\n",
       " 'IdAndSelfieCameraScreen',\n",
       " 'IdentityVerification',\n",
       " 'InstantLoanSSN',\n",
       " 'InstantOfferCreateAccount',\n",
       " 'Institutions',\n",
       " 'LLLoanAmount',\n",
       " 'LandingScreen',\n",
       " 'Leaderboard',\n",
       " 'ListPicker',\n",
       " 'Loan',\n",
       " 'Loan1',\n",
       " 'Loan2',\n",
       " 'Loan3',\n",
       " 'Loan4',\n",
       " 'LoanAppAgreement',\n",
       " 'LoanAppBankInfo',\n",
       " 'LoanAppConfirmWithdrawal',\n",
       " 'LoanAppDenied',\n",
       " 'LoanAppESign',\n",
       " 'LoanAppLoan4',\n",
       " 'LoanAppPaymentSchedule',\n",
       " 'LoanAppPromoCode',\n",
       " 'LoanAppReasons',\n",
       " 'LoanAppRequestAmount',\n",
       " 'LoanAppScheduleCall',\n",
       " 'LoanAppSuccess',\n",
       " 'LoanAppVerifyBankInfo',\n",
       " 'LoanAppWithdrawn',\n",
       " 'Login',\n",
       " 'LoginForm',\n",
       " 'MLWebView',\n",
       " 'ManageFinances',\n",
       " 'NetworkFailure',\n",
       " 'NetworkUser',\n",
       " 'NewContactListInvite',\n",
       " 'Payoff',\n",
       " 'ProfileAnnualIncome',\n",
       " 'ProfileChildren',\n",
       " 'ProfileCompanyName',\n",
       " 'ProfileEducation',\n",
       " 'ProfileEducationMajor',\n",
       " 'ProfileEmploymentLength',\n",
       " 'ProfileJobTitle',\n",
       " 'ProfileMaritalStatus',\n",
       " 'ProfilePage',\n",
       " 'ProfileVerifyIncomeType',\n",
       " 'ProfileVerifySSN',\n",
       " 'Profileproduct_review',\n",
       " 'ProviderList',\n",
       " 'ReferralContainer',\n",
       " 'ReferralScreen',\n",
       " 'Referrals',\n",
       " 'ResendToken',\n",
       " 'ReviewCreditCard',\n",
       " 'RewardDetail',\n",
       " 'Rewardjoinscreen',\n",
       " 'Rewards',\n",
       " 'RewardsContainer',\n",
       " 'Saving1',\n",
       " 'Saving10',\n",
       " 'Saving2',\n",
       " 'Saving2Amount',\n",
       " 'Saving4',\n",
       " 'Saving5',\n",
       " 'Saving6',\n",
       " 'Saving7',\n",
       " 'Saving8',\n",
       " 'Saving9',\n",
       " 'SavingGoalEdit',\n",
       " 'SavingGoalIncomeSalary',\n",
       " 'SavingGoalOther',\n",
       " 'SavingGoalPreview',\n",
       " 'ScanPreview',\n",
       " 'SecurityModal',\n",
       " 'SelectInstitution',\n",
       " 'Settings',\n",
       " 'Signup',\n",
       " 'SignupEmail',\n",
       " 'SignupName',\n",
       " 'Splash',\n",
       " 'TransactionList',\n",
       " 'VerifyAnnualIncome',\n",
       " 'VerifyBankInfo',\n",
       " 'VerifyCountry',\n",
       " 'VerifyDateOfBirth',\n",
       " 'VerifyHousing',\n",
       " 'VerifyHousingAmount',\n",
       " 'VerifyIncomeType',\n",
       " 'VerifyMobile',\n",
       " 'VerifyPhone',\n",
       " 'VerifySSN',\n",
       " 'VerifyToken',\n",
       " 'WebView',\n",
       " 'WelcomeBankVerification',\n",
       " 'YourNetwork',\n",
       " 'idscreen',\n",
       " 'joinscreen',\n",
       " 'location',\n",
       " 'product_review',\n",
       " 'product_review2',\n",
       " 'product_review3',\n",
       " 'product_review4',\n",
       " 'product_review5'}"
      ]
     },
     "execution_count": 24,
     "metadata": {},
     "output_type": "execute_result"
    }
   ],
   "source": [
    "all_screens"
   ]
  },
  {
   "cell_type": "markdown",
   "id": "76d6cac0",
   "metadata": {},
   "source": [
    "From the output, we can see that there are many similar screens. For example, the screens starting with \"Credit\":"
   ]
  },
  {
   "cell_type": "code",
   "execution_count": 25,
   "id": "57ec2743",
   "metadata": {},
   "outputs": [
    {
     "data": {
      "text/plain": [
       "['Credit3CTA',\n",
       " 'Credit3Alerts',\n",
       " 'Credit3Dashboard',\n",
       " 'Credit3Container',\n",
       " 'Credit1',\n",
       " 'Credits',\n",
       " 'Credit2',\n",
       " 'Credit3']"
      ]
     },
     "execution_count": 25,
     "metadata": {},
     "output_type": "execute_result"
    }
   ],
   "source": [
    "[i for i in all_screens if i.startswith(\"Credit\")]"
   ]
  },
  {
   "cell_type": "markdown",
   "id": "162656fe",
   "metadata": {},
   "source": [
    "We can group these screens in order to reduce some redundant data. Let's define a function that will do this for us:"
   ]
  },
  {
   "cell_type": "code",
   "execution_count": 26,
   "id": "ab0373e7",
   "metadata": {},
   "outputs": [],
   "source": [
    "# this function renames the screen according to the specified string that it begins with\n",
    "\n",
    "def group_screens(group):\n",
    "\n",
    "    for i, item in enumerate(df['screen_list']):\n",
    "\n",
    "        for j, jtem in enumerate((pd.Series(df['screen_list'][i])).str.startswith(group)):\n",
    "\n",
    "            if jtem == True:\n",
    "\n",
    "                df['screen_list'][i][j] = group"
   ]
  },
  {
   "cell_type": "markdown",
   "id": "21fce477",
   "metadata": {},
   "source": [
    "The function `group_screens` is able to replace all entries starting with a given string by this very same string. For example: if we call the function `group_screens('Credit')`, it will replace all strings starting with \"Credit\" by \"Credit\"."
   ]
  },
  {
   "cell_type": "code",
   "execution_count": 27,
   "id": "110e73e9",
   "metadata": {},
   "outputs": [],
   "source": [
    "group_screens('Credit')"
   ]
  },
  {
   "cell_type": "markdown",
   "id": "767baa8b",
   "metadata": {},
   "source": [
    "We can do the same for other categories:"
   ]
  },
  {
   "cell_type": "code",
   "execution_count": 28,
   "id": "3bbf74ef",
   "metadata": {},
   "outputs": [],
   "source": [
    "screens_to_group = ['Loan', 'Profile', 'Saving', 'Verify', 'product_review']\n",
    "\n",
    "for s in screens_to_group:\n",
    "    \n",
    "    group_screens(s)"
   ]
  },
  {
   "cell_type": "markdown",
   "id": "a6725e27",
   "metadata": {},
   "source": [
    "Our dataset is now as follows:"
   ]
  },
  {
   "cell_type": "code",
   "execution_count": 29,
   "id": "337a3f78",
   "metadata": {},
   "outputs": [
    {
     "data": {
      "text/html": [
       "<div>\n",
       "<style scoped>\n",
       "    .dataframe tbody tr th:only-of-type {\n",
       "        vertical-align: middle;\n",
       "    }\n",
       "\n",
       "    .dataframe tbody tr th {\n",
       "        vertical-align: top;\n",
       "    }\n",
       "\n",
       "    .dataframe thead th {\n",
       "        text-align: right;\n",
       "    }\n",
       "</style>\n",
       "<table border=\"1\" class=\"dataframe\">\n",
       "  <thead>\n",
       "    <tr style=\"text-align: right;\">\n",
       "      <th></th>\n",
       "      <th>user</th>\n",
       "      <th>first_open</th>\n",
       "      <th>dayofweek</th>\n",
       "      <th>hour</th>\n",
       "      <th>age</th>\n",
       "      <th>screen_list</th>\n",
       "      <th>numscreens</th>\n",
       "      <th>minigame</th>\n",
       "      <th>used_premium_feature</th>\n",
       "      <th>enrolled</th>\n",
       "      <th>enrolled_date</th>\n",
       "      <th>liked</th>\n",
       "      <th>dayperiod</th>\n",
       "      <th>age_group</th>\n",
       "      <th>days_to_enroll</th>\n",
       "    </tr>\n",
       "  </thead>\n",
       "  <tbody>\n",
       "    <tr>\n",
       "      <th>0</th>\n",
       "      <td>235136</td>\n",
       "      <td>2012-12-27 02:14:51.273</td>\n",
       "      <td>3</td>\n",
       "      <td>2</td>\n",
       "      <td>23</td>\n",
       "      <td>[idscreen, joinscreen, Cycle, product_review, ...</td>\n",
       "      <td>15</td>\n",
       "      <td>0</td>\n",
       "      <td>0</td>\n",
       "      <td>0</td>\n",
       "      <td>NaT</td>\n",
       "      <td>0</td>\n",
       "      <td>0</td>\n",
       "      <td>0</td>\n",
       "      <td>NaN</td>\n",
       "    </tr>\n",
       "    <tr>\n",
       "      <th>1</th>\n",
       "      <td>333588</td>\n",
       "      <td>2012-12-02 01:16:00.905</td>\n",
       "      <td>6</td>\n",
       "      <td>1</td>\n",
       "      <td>24</td>\n",
       "      <td>[joinscreen, product_review, product_review, S...</td>\n",
       "      <td>13</td>\n",
       "      <td>0</td>\n",
       "      <td>0</td>\n",
       "      <td>0</td>\n",
       "      <td>NaT</td>\n",
       "      <td>0</td>\n",
       "      <td>0</td>\n",
       "      <td>0</td>\n",
       "      <td>NaN</td>\n",
       "    </tr>\n",
       "    <tr>\n",
       "      <th>2</th>\n",
       "      <td>254414</td>\n",
       "      <td>2013-03-19 19:19:09.157</td>\n",
       "      <td>1</td>\n",
       "      <td>19</td>\n",
       "      <td>23</td>\n",
       "      <td>[Splash, Cycle, Loan]</td>\n",
       "      <td>3</td>\n",
       "      <td>0</td>\n",
       "      <td>1</td>\n",
       "      <td>0</td>\n",
       "      <td>NaT</td>\n",
       "      <td>1</td>\n",
       "      <td>3</td>\n",
       "      <td>0</td>\n",
       "      <td>NaN</td>\n",
       "    </tr>\n",
       "    <tr>\n",
       "      <th>3</th>\n",
       "      <td>234192</td>\n",
       "      <td>2013-07-05 16:08:46.354</td>\n",
       "      <td>4</td>\n",
       "      <td>16</td>\n",
       "      <td>28</td>\n",
       "      <td>[product_review, Home, product_review, Loan, F...</td>\n",
       "      <td>40</td>\n",
       "      <td>0</td>\n",
       "      <td>0</td>\n",
       "      <td>1</td>\n",
       "      <td>2013-07-05 16:11:49.513</td>\n",
       "      <td>0</td>\n",
       "      <td>2</td>\n",
       "      <td>1</td>\n",
       "      <td>0.0</td>\n",
       "    </tr>\n",
       "    <tr>\n",
       "      <th>4</th>\n",
       "      <td>51549</td>\n",
       "      <td>2013-02-26 18:50:48.661</td>\n",
       "      <td>1</td>\n",
       "      <td>18</td>\n",
       "      <td>31</td>\n",
       "      <td>[idscreen, joinscreen, Cycle, Credit, ScanPrev...</td>\n",
       "      <td>32</td>\n",
       "      <td>0</td>\n",
       "      <td>0</td>\n",
       "      <td>1</td>\n",
       "      <td>2013-02-26 18:56:37.841</td>\n",
       "      <td>1</td>\n",
       "      <td>3</td>\n",
       "      <td>1</td>\n",
       "      <td>0.0</td>\n",
       "    </tr>\n",
       "  </tbody>\n",
       "</table>\n",
       "</div>"
      ],
      "text/plain": [
       "     user              first_open  dayofweek  hour  age  \\\n",
       "0  235136 2012-12-27 02:14:51.273          3     2   23   \n",
       "1  333588 2012-12-02 01:16:00.905          6     1   24   \n",
       "2  254414 2013-03-19 19:19:09.157          1    19   23   \n",
       "3  234192 2013-07-05 16:08:46.354          4    16   28   \n",
       "4   51549 2013-02-26 18:50:48.661          1    18   31   \n",
       "\n",
       "                                         screen_list  numscreens  minigame  \\\n",
       "0  [idscreen, joinscreen, Cycle, product_review, ...          15         0   \n",
       "1  [joinscreen, product_review, product_review, S...          13         0   \n",
       "2                              [Splash, Cycle, Loan]           3         0   \n",
       "3  [product_review, Home, product_review, Loan, F...          40         0   \n",
       "4  [idscreen, joinscreen, Cycle, Credit, ScanPrev...          32         0   \n",
       "\n",
       "   used_premium_feature  enrolled           enrolled_date  liked  dayperiod  \\\n",
       "0                     0         0                     NaT      0          0   \n",
       "1                     0         0                     NaT      0          0   \n",
       "2                     1         0                     NaT      1          3   \n",
       "3                     0         1 2013-07-05 16:11:49.513      0          2   \n",
       "4                     0         1 2013-02-26 18:56:37.841      1          3   \n",
       "\n",
       "   age_group  days_to_enroll  \n",
       "0          0             NaN  \n",
       "1          0             NaN  \n",
       "2          0             NaN  \n",
       "3          1             0.0  \n",
       "4          1             0.0  "
      ]
     },
     "execution_count": 29,
     "metadata": {},
     "output_type": "execute_result"
    }
   ],
   "source": [
    "df.head()"
   ]
  },
  {
   "cell_type": "markdown",
   "id": "9321faa8",
   "metadata": {},
   "source": [
    "We can now count the number of screens in each list entry in the \"screen_list\" column and compare it with the \"numscreens\" column:"
   ]
  },
  {
   "cell_type": "code",
   "execution_count": 30,
   "id": "467079ee",
   "metadata": {},
   "outputs": [],
   "source": [
    "df['total_screens'] = df['screen_list'].apply(lambda value: len(value))"
   ]
  },
  {
   "cell_type": "markdown",
   "id": "5cbd9beb",
   "metadata": {},
   "source": [
    "Elementary, my dear Watson. It seems these numbers are inconsistent. For now, we'll keep both columns. Later, we'll check which one is more adequated to train our model."
   ]
  },
  {
   "cell_type": "markdown",
   "id": "a548bb6d",
   "metadata": {},
   "source": [
    "To enrich our analysis, we can also add some numerical columns to our dataset corresponding to specific screen counts of the \"screen_list\", that is: \"How many screens belonging to this screen group has the user visited?\""
   ]
  },
  {
   "cell_type": "code",
   "execution_count": 31,
   "id": "51b70af8",
   "metadata": {},
   "outputs": [],
   "source": [
    "def count_screens(name):\n",
    "    \n",
    "    screen_count = []\n",
    "    \n",
    "    for i, item in enumerate(df['screen_list']):\n",
    "        \n",
    "        name_list = []\n",
    "\n",
    "        for j, jtem in enumerate((pd.Series(df['screen_list'][i]))):\n",
    "            \n",
    "            # if a screen contained in row list belongs to the specified group, we add it to a new list \"name_list\"\n",
    "\n",
    "            if jtem == name:\n",
    "\n",
    "                name_list.append(name)\n",
    "    \n",
    "        # calculates the length of thr list containing repeated screens \n",
    "        \n",
    "        screen_count.append(len(name_list))\n",
    "        \n",
    "    return(screen_count)"
   ]
  },
  {
   "cell_type": "markdown",
   "id": "244480fd",
   "metadata": {},
   "source": [
    "We can provide a list with the screen names that we want to check:"
   ]
  },
  {
   "cell_type": "code",
   "execution_count": 32,
   "id": "02197088",
   "metadata": {},
   "outputs": [],
   "source": [
    "screens_to_group = ['Credit', 'Loan', 'Profile', 'Saving', 'Verify', 'product_review']\n",
    "screen_count = []\n",
    "\n",
    "for s in screens_to_group:\n",
    "        \n",
    "    screen_count.append(count_screens(s))"
   ]
  },
  {
   "cell_type": "code",
   "execution_count": 33,
   "id": "1e795dd5",
   "metadata": {},
   "outputs": [],
   "source": [
    "df['credit_screens'] = screen_count[0]\n",
    "df['loan_screens'] = screen_count[1]\n",
    "df['prof_screens'] = screen_count[2]\n",
    "df['sav_screens'] = screen_count[3]\n",
    "df['ver_screens'] = screen_count[4]\n",
    "df['prod_rvw_screens'] = screen_count[5]"
   ]
  },
  {
   "cell_type": "code",
   "execution_count": 34,
   "id": "507c9388",
   "metadata": {},
   "outputs": [
    {
     "data": {
      "text/html": [
       "<div>\n",
       "<style scoped>\n",
       "    .dataframe tbody tr th:only-of-type {\n",
       "        vertical-align: middle;\n",
       "    }\n",
       "\n",
       "    .dataframe tbody tr th {\n",
       "        vertical-align: top;\n",
       "    }\n",
       "\n",
       "    .dataframe thead th {\n",
       "        text-align: right;\n",
       "    }\n",
       "</style>\n",
       "<table border=\"1\" class=\"dataframe\">\n",
       "  <thead>\n",
       "    <tr style=\"text-align: right;\">\n",
       "      <th></th>\n",
       "      <th>user</th>\n",
       "      <th>first_open</th>\n",
       "      <th>dayofweek</th>\n",
       "      <th>hour</th>\n",
       "      <th>age</th>\n",
       "      <th>screen_list</th>\n",
       "      <th>numscreens</th>\n",
       "      <th>minigame</th>\n",
       "      <th>used_premium_feature</th>\n",
       "      <th>enrolled</th>\n",
       "      <th>...</th>\n",
       "      <th>dayperiod</th>\n",
       "      <th>age_group</th>\n",
       "      <th>days_to_enroll</th>\n",
       "      <th>total_screens</th>\n",
       "      <th>credit_screens</th>\n",
       "      <th>loan_screens</th>\n",
       "      <th>prof_screens</th>\n",
       "      <th>sav_screens</th>\n",
       "      <th>ver_screens</th>\n",
       "      <th>prod_rvw_screens</th>\n",
       "    </tr>\n",
       "  </thead>\n",
       "  <tbody>\n",
       "    <tr>\n",
       "      <th>0</th>\n",
       "      <td>235136</td>\n",
       "      <td>2012-12-27 02:14:51.273</td>\n",
       "      <td>3</td>\n",
       "      <td>2</td>\n",
       "      <td>23</td>\n",
       "      <td>[idscreen, joinscreen, Cycle, product_review, ...</td>\n",
       "      <td>15</td>\n",
       "      <td>0</td>\n",
       "      <td>0</td>\n",
       "      <td>0</td>\n",
       "      <td>...</td>\n",
       "      <td>0</td>\n",
       "      <td>0</td>\n",
       "      <td>NaN</td>\n",
       "      <td>13</td>\n",
       "      <td>0</td>\n",
       "      <td>1</td>\n",
       "      <td>1</td>\n",
       "      <td>0</td>\n",
       "      <td>3</td>\n",
       "      <td>1</td>\n",
       "    </tr>\n",
       "    <tr>\n",
       "      <th>1</th>\n",
       "      <td>333588</td>\n",
       "      <td>2012-12-02 01:16:00.905</td>\n",
       "      <td>6</td>\n",
       "      <td>1</td>\n",
       "      <td>24</td>\n",
       "      <td>[joinscreen, product_review, product_review, S...</td>\n",
       "      <td>13</td>\n",
       "      <td>0</td>\n",
       "      <td>0</td>\n",
       "      <td>0</td>\n",
       "      <td>...</td>\n",
       "      <td>0</td>\n",
       "      <td>0</td>\n",
       "      <td>NaN</td>\n",
       "      <td>11</td>\n",
       "      <td>0</td>\n",
       "      <td>1</td>\n",
       "      <td>0</td>\n",
       "      <td>0</td>\n",
       "      <td>4</td>\n",
       "      <td>2</td>\n",
       "    </tr>\n",
       "    <tr>\n",
       "      <th>2</th>\n",
       "      <td>254414</td>\n",
       "      <td>2013-03-19 19:19:09.157</td>\n",
       "      <td>1</td>\n",
       "      <td>19</td>\n",
       "      <td>23</td>\n",
       "      <td>[Splash, Cycle, Loan]</td>\n",
       "      <td>3</td>\n",
       "      <td>0</td>\n",
       "      <td>1</td>\n",
       "      <td>0</td>\n",
       "      <td>...</td>\n",
       "      <td>3</td>\n",
       "      <td>0</td>\n",
       "      <td>NaN</td>\n",
       "      <td>3</td>\n",
       "      <td>0</td>\n",
       "      <td>1</td>\n",
       "      <td>0</td>\n",
       "      <td>0</td>\n",
       "      <td>0</td>\n",
       "      <td>0</td>\n",
       "    </tr>\n",
       "    <tr>\n",
       "      <th>3</th>\n",
       "      <td>234192</td>\n",
       "      <td>2013-07-05 16:08:46.354</td>\n",
       "      <td>4</td>\n",
       "      <td>16</td>\n",
       "      <td>28</td>\n",
       "      <td>[product_review, Home, product_review, Loan, F...</td>\n",
       "      <td>40</td>\n",
       "      <td>0</td>\n",
       "      <td>0</td>\n",
       "      <td>1</td>\n",
       "      <td>...</td>\n",
       "      <td>2</td>\n",
       "      <td>1</td>\n",
       "      <td>0.0</td>\n",
       "      <td>17</td>\n",
       "      <td>3</td>\n",
       "      <td>1</td>\n",
       "      <td>0</td>\n",
       "      <td>0</td>\n",
       "      <td>3</td>\n",
       "      <td>2</td>\n",
       "    </tr>\n",
       "    <tr>\n",
       "      <th>4</th>\n",
       "      <td>51549</td>\n",
       "      <td>2013-02-26 18:50:48.661</td>\n",
       "      <td>1</td>\n",
       "      <td>18</td>\n",
       "      <td>31</td>\n",
       "      <td>[idscreen, joinscreen, Cycle, Credit, ScanPrev...</td>\n",
       "      <td>32</td>\n",
       "      <td>0</td>\n",
       "      <td>0</td>\n",
       "      <td>1</td>\n",
       "      <td>...</td>\n",
       "      <td>3</td>\n",
       "      <td>1</td>\n",
       "      <td>0.0</td>\n",
       "      <td>19</td>\n",
       "      <td>2</td>\n",
       "      <td>1</td>\n",
       "      <td>0</td>\n",
       "      <td>0</td>\n",
       "      <td>4</td>\n",
       "      <td>3</td>\n",
       "    </tr>\n",
       "  </tbody>\n",
       "</table>\n",
       "<p>5 rows × 22 columns</p>\n",
       "</div>"
      ],
      "text/plain": [
       "     user              first_open  dayofweek  hour  age  \\\n",
       "0  235136 2012-12-27 02:14:51.273          3     2   23   \n",
       "1  333588 2012-12-02 01:16:00.905          6     1   24   \n",
       "2  254414 2013-03-19 19:19:09.157          1    19   23   \n",
       "3  234192 2013-07-05 16:08:46.354          4    16   28   \n",
       "4   51549 2013-02-26 18:50:48.661          1    18   31   \n",
       "\n",
       "                                         screen_list  numscreens  minigame  \\\n",
       "0  [idscreen, joinscreen, Cycle, product_review, ...          15         0   \n",
       "1  [joinscreen, product_review, product_review, S...          13         0   \n",
       "2                              [Splash, Cycle, Loan]           3         0   \n",
       "3  [product_review, Home, product_review, Loan, F...          40         0   \n",
       "4  [idscreen, joinscreen, Cycle, Credit, ScanPrev...          32         0   \n",
       "\n",
       "   used_premium_feature  enrolled  ... dayperiod  age_group  days_to_enroll  \\\n",
       "0                     0         0  ...         0          0             NaN   \n",
       "1                     0         0  ...         0          0             NaN   \n",
       "2                     1         0  ...         3          0             NaN   \n",
       "3                     0         1  ...         2          1             0.0   \n",
       "4                     0         1  ...         3          1             0.0   \n",
       "\n",
       "   total_screens  credit_screens  loan_screens  prof_screens  sav_screens  \\\n",
       "0             13               0             1             1            0   \n",
       "1             11               0             1             0            0   \n",
       "2              3               0             1             0            0   \n",
       "3             17               3             1             0            0   \n",
       "4             19               2             1             0            0   \n",
       "\n",
       "   ver_screens  prod_rvw_screens  \n",
       "0            3                 1  \n",
       "1            4                 2  \n",
       "2            0                 0  \n",
       "3            3                 2  \n",
       "4            4                 3  \n",
       "\n",
       "[5 rows x 22 columns]"
      ]
     },
     "execution_count": 34,
     "metadata": {},
     "output_type": "execute_result"
    }
   ],
   "source": [
    "df.head()"
   ]
  },
  {
   "cell_type": "markdown",
   "id": "e41c04ec",
   "metadata": {},
   "source": [
    "Finally, we can drop the columns that won't be used to train our ML model."
   ]
  },
  {
   "cell_type": "code",
   "execution_count": 38,
   "id": "f1fc8ecf",
   "metadata": {},
   "outputs": [],
   "source": [
    "df = df.drop(['user', 'first_open', 'screen_list', 'enrolled_date', 'days_to_enroll'], axis=1)"
   ]
  },
  {
   "cell_type": "markdown",
   "id": "08d28059",
   "metadata": {},
   "source": [
    "## Exploratory Data Analysis"
   ]
  },
  {
   "cell_type": "markdown",
   "id": "1c411700",
   "metadata": {},
   "source": [
    "Starting with the EDA, let's check some of the dataframe parameters:"
   ]
  },
  {
   "cell_type": "markdown",
   "id": "48ecdba3",
   "metadata": {},
   "source": [
    "Now that our dataset is cleaner and easier to work with, let's check the correlation between our numerical variables. We can start by defining a smaller dataframe derived from our main dataframe:"
   ]
  },
  {
   "cell_type": "code",
   "execution_count": 39,
   "id": "9ad13770",
   "metadata": {},
   "outputs": [],
   "source": [
    "df_num = df[['age', 'numscreens','total_screens', \n",
    "             'credit_screens', 'loan_screens', 'prof_screens', 'sav_screens', 'ver_screens', 'prod_rvw_screens']]"
   ]
  },
  {
   "cell_type": "code",
   "execution_count": 40,
   "id": "cb1b3ce0",
   "metadata": {},
   "outputs": [
    {
     "data": {
      "text/html": [
       "<div>\n",
       "<style scoped>\n",
       "    .dataframe tbody tr th:only-of-type {\n",
       "        vertical-align: middle;\n",
       "    }\n",
       "\n",
       "    .dataframe tbody tr th {\n",
       "        vertical-align: top;\n",
       "    }\n",
       "\n",
       "    .dataframe thead th {\n",
       "        text-align: right;\n",
       "    }\n",
       "</style>\n",
       "<table border=\"1\" class=\"dataframe\">\n",
       "  <thead>\n",
       "    <tr style=\"text-align: right;\">\n",
       "      <th></th>\n",
       "      <th>age</th>\n",
       "      <th>numscreens</th>\n",
       "      <th>total_screens</th>\n",
       "      <th>credit_screens</th>\n",
       "      <th>loan_screens</th>\n",
       "      <th>prof_screens</th>\n",
       "      <th>sav_screens</th>\n",
       "      <th>ver_screens</th>\n",
       "      <th>prod_rvw_screens</th>\n",
       "    </tr>\n",
       "  </thead>\n",
       "  <tbody>\n",
       "    <tr>\n",
       "      <th>0</th>\n",
       "      <td>23</td>\n",
       "      <td>15</td>\n",
       "      <td>13</td>\n",
       "      <td>0</td>\n",
       "      <td>1</td>\n",
       "      <td>1</td>\n",
       "      <td>0</td>\n",
       "      <td>3</td>\n",
       "      <td>1</td>\n",
       "    </tr>\n",
       "    <tr>\n",
       "      <th>1</th>\n",
       "      <td>24</td>\n",
       "      <td>13</td>\n",
       "      <td>11</td>\n",
       "      <td>0</td>\n",
       "      <td>1</td>\n",
       "      <td>0</td>\n",
       "      <td>0</td>\n",
       "      <td>4</td>\n",
       "      <td>2</td>\n",
       "    </tr>\n",
       "    <tr>\n",
       "      <th>2</th>\n",
       "      <td>23</td>\n",
       "      <td>3</td>\n",
       "      <td>3</td>\n",
       "      <td>0</td>\n",
       "      <td>1</td>\n",
       "      <td>0</td>\n",
       "      <td>0</td>\n",
       "      <td>0</td>\n",
       "      <td>0</td>\n",
       "    </tr>\n",
       "    <tr>\n",
       "      <th>3</th>\n",
       "      <td>28</td>\n",
       "      <td>40</td>\n",
       "      <td>17</td>\n",
       "      <td>3</td>\n",
       "      <td>1</td>\n",
       "      <td>0</td>\n",
       "      <td>0</td>\n",
       "      <td>3</td>\n",
       "      <td>2</td>\n",
       "    </tr>\n",
       "    <tr>\n",
       "      <th>4</th>\n",
       "      <td>31</td>\n",
       "      <td>32</td>\n",
       "      <td>19</td>\n",
       "      <td>2</td>\n",
       "      <td>1</td>\n",
       "      <td>0</td>\n",
       "      <td>0</td>\n",
       "      <td>4</td>\n",
       "      <td>3</td>\n",
       "    </tr>\n",
       "  </tbody>\n",
       "</table>\n",
       "</div>"
      ],
      "text/plain": [
       "   age  numscreens  total_screens  credit_screens  loan_screens  prof_screens  \\\n",
       "0   23          15             13               0             1             1   \n",
       "1   24          13             11               0             1             0   \n",
       "2   23           3              3               0             1             0   \n",
       "3   28          40             17               3             1             0   \n",
       "4   31          32             19               2             1             0   \n",
       "\n",
       "   sav_screens  ver_screens  prod_rvw_screens  \n",
       "0            0            3                 1  \n",
       "1            0            4                 2  \n",
       "2            0            0                 0  \n",
       "3            0            3                 2  \n",
       "4            0            4                 3  "
      ]
     },
     "execution_count": 40,
     "metadata": {},
     "output_type": "execute_result"
    }
   ],
   "source": [
    "df_num.head()"
   ]
  },
  {
   "cell_type": "markdown",
   "id": "f0c9a3bb",
   "metadata": {},
   "source": [
    "We can use now the `DataFrame.describe()` method in order to obtain some key statistical parameters of our columns:"
   ]
  },
  {
   "cell_type": "code",
   "execution_count": 41,
   "id": "c7590095",
   "metadata": {},
   "outputs": [
    {
     "data": {
      "text/html": [
       "<div>\n",
       "<style scoped>\n",
       "    .dataframe tbody tr th:only-of-type {\n",
       "        vertical-align: middle;\n",
       "    }\n",
       "\n",
       "    .dataframe tbody tr th {\n",
       "        vertical-align: top;\n",
       "    }\n",
       "\n",
       "    .dataframe thead th {\n",
       "        text-align: right;\n",
       "    }\n",
       "</style>\n",
       "<table border=\"1\" class=\"dataframe\">\n",
       "  <thead>\n",
       "    <tr style=\"text-align: right;\">\n",
       "      <th></th>\n",
       "      <th>age</th>\n",
       "      <th>numscreens</th>\n",
       "      <th>total_screens</th>\n",
       "      <th>credit_screens</th>\n",
       "      <th>loan_screens</th>\n",
       "      <th>prof_screens</th>\n",
       "      <th>sav_screens</th>\n",
       "      <th>ver_screens</th>\n",
       "      <th>prod_rvw_screens</th>\n",
       "    </tr>\n",
       "  </thead>\n",
       "  <tbody>\n",
       "    <tr>\n",
       "      <th>count</th>\n",
       "      <td>49874.000000</td>\n",
       "      <td>49874.000000</td>\n",
       "      <td>49874.000000</td>\n",
       "      <td>49874.000000</td>\n",
       "      <td>49874.000000</td>\n",
       "      <td>49874.000000</td>\n",
       "      <td>49874.000000</td>\n",
       "      <td>49874.000000</td>\n",
       "      <td>49874.000000</td>\n",
       "    </tr>\n",
       "    <tr>\n",
       "      <th>mean</th>\n",
       "      <td>31.713157</td>\n",
       "      <td>21.098849</td>\n",
       "      <td>12.985323</td>\n",
       "      <td>0.930344</td>\n",
       "      <td>0.794322</td>\n",
       "      <td>0.454906</td>\n",
       "      <td>0.371897</td>\n",
       "      <td>2.461102</td>\n",
       "      <td>2.644925</td>\n",
       "    </tr>\n",
       "    <tr>\n",
       "      <th>std</th>\n",
       "      <td>10.803037</td>\n",
       "      <td>15.726940</td>\n",
       "      <td>7.095013</td>\n",
       "      <td>1.219565</td>\n",
       "      <td>0.722807</td>\n",
       "      <td>1.348168</td>\n",
       "      <td>1.442486</td>\n",
       "      <td>2.092640</td>\n",
       "      <td>2.659094</td>\n",
       "    </tr>\n",
       "    <tr>\n",
       "      <th>min</th>\n",
       "      <td>16.000000</td>\n",
       "      <td>1.000000</td>\n",
       "      <td>1.000000</td>\n",
       "      <td>0.000000</td>\n",
       "      <td>0.000000</td>\n",
       "      <td>0.000000</td>\n",
       "      <td>0.000000</td>\n",
       "      <td>0.000000</td>\n",
       "      <td>0.000000</td>\n",
       "    </tr>\n",
       "    <tr>\n",
       "      <th>25%</th>\n",
       "      <td>24.000000</td>\n",
       "      <td>10.000000</td>\n",
       "      <td>8.000000</td>\n",
       "      <td>0.000000</td>\n",
       "      <td>0.000000</td>\n",
       "      <td>0.000000</td>\n",
       "      <td>0.000000</td>\n",
       "      <td>0.000000</td>\n",
       "      <td>0.000000</td>\n",
       "    </tr>\n",
       "    <tr>\n",
       "      <th>50%</th>\n",
       "      <td>29.000000</td>\n",
       "      <td>18.000000</td>\n",
       "      <td>12.000000</td>\n",
       "      <td>0.000000</td>\n",
       "      <td>1.000000</td>\n",
       "      <td>0.000000</td>\n",
       "      <td>0.000000</td>\n",
       "      <td>3.000000</td>\n",
       "      <td>2.000000</td>\n",
       "    </tr>\n",
       "    <tr>\n",
       "      <th>75%</th>\n",
       "      <td>37.000000</td>\n",
       "      <td>28.000000</td>\n",
       "      <td>17.000000</td>\n",
       "      <td>2.000000</td>\n",
       "      <td>1.000000</td>\n",
       "      <td>0.000000</td>\n",
       "      <td>0.000000</td>\n",
       "      <td>4.000000</td>\n",
       "      <td>4.000000</td>\n",
       "    </tr>\n",
       "    <tr>\n",
       "      <th>max</th>\n",
       "      <td>101.000000</td>\n",
       "      <td>325.000000</td>\n",
       "      <td>79.000000</td>\n",
       "      <td>5.000000</td>\n",
       "      <td>9.000000</td>\n",
       "      <td>11.000000</td>\n",
       "      <td>13.000000</td>\n",
       "      <td>10.000000</td>\n",
       "      <td>23.000000</td>\n",
       "    </tr>\n",
       "  </tbody>\n",
       "</table>\n",
       "</div>"
      ],
      "text/plain": [
       "                age    numscreens  total_screens  credit_screens  \\\n",
       "count  49874.000000  49874.000000   49874.000000    49874.000000   \n",
       "mean      31.713157     21.098849      12.985323        0.930344   \n",
       "std       10.803037     15.726940       7.095013        1.219565   \n",
       "min       16.000000      1.000000       1.000000        0.000000   \n",
       "25%       24.000000     10.000000       8.000000        0.000000   \n",
       "50%       29.000000     18.000000      12.000000        0.000000   \n",
       "75%       37.000000     28.000000      17.000000        2.000000   \n",
       "max      101.000000    325.000000      79.000000        5.000000   \n",
       "\n",
       "       loan_screens  prof_screens   sav_screens   ver_screens  \\\n",
       "count  49874.000000  49874.000000  49874.000000  49874.000000   \n",
       "mean       0.794322      0.454906      0.371897      2.461102   \n",
       "std        0.722807      1.348168      1.442486      2.092640   \n",
       "min        0.000000      0.000000      0.000000      0.000000   \n",
       "25%        0.000000      0.000000      0.000000      0.000000   \n",
       "50%        1.000000      0.000000      0.000000      3.000000   \n",
       "75%        1.000000      0.000000      0.000000      4.000000   \n",
       "max        9.000000     11.000000     13.000000     10.000000   \n",
       "\n",
       "       prod_rvw_screens  \n",
       "count      49874.000000  \n",
       "mean           2.644925  \n",
       "std            2.659094  \n",
       "min            0.000000  \n",
       "25%            0.000000  \n",
       "50%            2.000000  \n",
       "75%            4.000000  \n",
       "max           23.000000  "
      ]
     },
     "execution_count": 41,
     "metadata": {},
     "output_type": "execute_result"
    }
   ],
   "source": [
    "df_num.describe()"
   ]
  },
  {
   "cell_type": "markdown",
   "id": "61fbf38b",
   "metadata": {},
   "source": [
    "By taking a look at the table above, we have a glimpse of some interesting facts about our dataset, as:\n",
    "\n",
    "1. The app users have a mean age of 31 years old, and the median of the ages is 29. This means our age data is most likely lightly right-skewed.\n",
    "\n",
    "2. There's an user with 101 years old! 🧓\n",
    "\n",
    "3. As we had seen before, the \"numscreens\" and \"total_screens\" columns are not consistent. The maximum value of both, for example, are really diffenrent.\n",
    "\n",
    "4. One of the screen groups that users most visit is the \"product_review\" group. \"savings\" and \"profile\" screens, on the other hand, are not that popular."
   ]
  },
  {
   "cell_type": "markdown",
   "id": "de334756",
   "metadata": {},
   "source": [
    "Now method `pd.DataFrame.corr`is able to calculate the correlation between our variables. Let's plot the outcome in a heatmap:"
   ]
  },
  {
   "cell_type": "code",
   "execution_count": 42,
   "id": "3f5e55a7",
   "metadata": {},
   "outputs": [
    {
     "data": {
      "image/png": "[encoded data removed]",
      "text/plain": [
       "<Figure size 640x480 with 2 Axes>"
      ]
     },
     "metadata": {},
     "output_type": "display_data"
    }
   ],
   "source": [
    "sns.heatmap(df_num.corr(method=\"pearson\"), annot=True);"
   ]
  },
  {
   "cell_type": "markdown",
   "id": "a6b5f91b",
   "metadata": {},
   "source": [
    "Here are some conclusions that we can draw from the heatmap:\n",
    "\n",
    "1. Although \"numscreens\" and \"total_screens\" are inconsistent, they're highly correlated, meaning that we will, as expected, need to choose one of them to train our ML model\n",
    "\n",
    "2. User age is poorly correlated to the user screen behaviors\n",
    "\n",
    "3. Profile screens are considerably correlated with savings screens.\n",
    "\n",
    "4. All screen groups are somewhat correlated with \"numscreens\" and \"total_screens\", which makes sense."
   ]
  },
  {
   "cell_type": "markdown",
   "id": "65a61e54",
   "metadata": {},
   "source": [
    "Now, let's check the correlation between our categorical variables, which correspond to the most part of our dataframe. Remembering that they include the label \"enrolled\".\n",
    "\n",
    "The correlation between two categorical variables is calculated in a different manner compared to the correlation between a numerical and a categorical variable. In the next steps, we'll calculate the Chi-square test of independence between all pairs of categorical variables. The Chi-Square test returns an array of parameters that are used to understand the correlation between two variables in the following manner:\n",
    "\n",
    "**Chi-square test**\n",
    "    Let's consider we have an Hypothesis H0, that states that two variables are not correlated and an Hypothesis H1, which states that both are correlated. We then perform the chi-square test and obtain the p-value, which will indicate the correlation between both: If `p > 0.05`, H1 is true and H0 is rejected. If `p < 0.05`, H1 is discarded and we consider H0 as true."
   ]
  },
  {
   "cell_type": "code",
   "execution_count": 43,
   "id": "b6ef58f9",
   "metadata": {},
   "outputs": [
    {
     "data": {
      "text/html": [
       "<div>\n",
       "<style scoped>\n",
       "    .dataframe tbody tr th:only-of-type {\n",
       "        vertical-align: middle;\n",
       "    }\n",
       "\n",
       "    .dataframe tbody tr th {\n",
       "        vertical-align: top;\n",
       "    }\n",
       "\n",
       "    .dataframe thead th {\n",
       "        text-align: right;\n",
       "    }\n",
       "</style>\n",
       "<table border=\"1\" class=\"dataframe\">\n",
       "  <thead>\n",
       "    <tr style=\"text-align: right;\">\n",
       "      <th></th>\n",
       "      <th>dayofweek</th>\n",
       "      <th>hour</th>\n",
       "      <th>age</th>\n",
       "      <th>numscreens</th>\n",
       "      <th>minigame</th>\n",
       "      <th>used_premium_feature</th>\n",
       "      <th>enrolled</th>\n",
       "      <th>liked</th>\n",
       "      <th>dayperiod</th>\n",
       "      <th>age_group</th>\n",
       "      <th>total_screens</th>\n",
       "      <th>credit_screens</th>\n",
       "      <th>loan_screens</th>\n",
       "      <th>prof_screens</th>\n",
       "      <th>sav_screens</th>\n",
       "      <th>ver_screens</th>\n",
       "      <th>prod_rvw_screens</th>\n",
       "    </tr>\n",
       "  </thead>\n",
       "  <tbody>\n",
       "    <tr>\n",
       "      <th>0</th>\n",
       "      <td>3</td>\n",
       "      <td>2</td>\n",
       "      <td>23</td>\n",
       "      <td>15</td>\n",
       "      <td>0</td>\n",
       "      <td>0</td>\n",
       "      <td>0</td>\n",
       "      <td>0</td>\n",
       "      <td>0</td>\n",
       "      <td>0</td>\n",
       "      <td>13</td>\n",
       "      <td>0</td>\n",
       "      <td>1</td>\n",
       "      <td>1</td>\n",
       "      <td>0</td>\n",
       "      <td>3</td>\n",
       "      <td>1</td>\n",
       "    </tr>\n",
       "    <tr>\n",
       "      <th>1</th>\n",
       "      <td>6</td>\n",
       "      <td>1</td>\n",
       "      <td>24</td>\n",
       "      <td>13</td>\n",
       "      <td>0</td>\n",
       "      <td>0</td>\n",
       "      <td>0</td>\n",
       "      <td>0</td>\n",
       "      <td>0</td>\n",
       "      <td>0</td>\n",
       "      <td>11</td>\n",
       "      <td>0</td>\n",
       "      <td>1</td>\n",
       "      <td>0</td>\n",
       "      <td>0</td>\n",
       "      <td>4</td>\n",
       "      <td>2</td>\n",
       "    </tr>\n",
       "    <tr>\n",
       "      <th>2</th>\n",
       "      <td>1</td>\n",
       "      <td>19</td>\n",
       "      <td>23</td>\n",
       "      <td>3</td>\n",
       "      <td>0</td>\n",
       "      <td>1</td>\n",
       "      <td>0</td>\n",
       "      <td>1</td>\n",
       "      <td>3</td>\n",
       "      <td>0</td>\n",
       "      <td>3</td>\n",
       "      <td>0</td>\n",
       "      <td>1</td>\n",
       "      <td>0</td>\n",
       "      <td>0</td>\n",
       "      <td>0</td>\n",
       "      <td>0</td>\n",
       "    </tr>\n",
       "    <tr>\n",
       "      <th>3</th>\n",
       "      <td>4</td>\n",
       "      <td>16</td>\n",
       "      <td>28</td>\n",
       "      <td>40</td>\n",
       "      <td>0</td>\n",
       "      <td>0</td>\n",
       "      <td>1</td>\n",
       "      <td>0</td>\n",
       "      <td>2</td>\n",
       "      <td>1</td>\n",
       "      <td>17</td>\n",
       "      <td>3</td>\n",
       "      <td>1</td>\n",
       "      <td>0</td>\n",
       "      <td>0</td>\n",
       "      <td>3</td>\n",
       "      <td>2</td>\n",
       "    </tr>\n",
       "    <tr>\n",
       "      <th>4</th>\n",
       "      <td>1</td>\n",
       "      <td>18</td>\n",
       "      <td>31</td>\n",
       "      <td>32</td>\n",
       "      <td>0</td>\n",
       "      <td>0</td>\n",
       "      <td>1</td>\n",
       "      <td>1</td>\n",
       "      <td>3</td>\n",
       "      <td>1</td>\n",
       "      <td>19</td>\n",
       "      <td>2</td>\n",
       "      <td>1</td>\n",
       "      <td>0</td>\n",
       "      <td>0</td>\n",
       "      <td>4</td>\n",
       "      <td>3</td>\n",
       "    </tr>\n",
       "  </tbody>\n",
       "</table>\n",
       "</div>"
      ],
      "text/plain": [
       "   dayofweek  hour  age  numscreens  minigame  used_premium_feature  enrolled  \\\n",
       "0          3     2   23          15         0                     0         0   \n",
       "1          6     1   24          13         0                     0         0   \n",
       "2          1    19   23           3         0                     1         0   \n",
       "3          4    16   28          40         0                     0         1   \n",
       "4          1    18   31          32         0                     0         1   \n",
       "\n",
       "   liked  dayperiod  age_group  total_screens  credit_screens  loan_screens  \\\n",
       "0      0          0          0             13               0             1   \n",
       "1      0          0          0             11               0             1   \n",
       "2      1          3          0              3               0             1   \n",
       "3      0          2          1             17               3             1   \n",
       "4      1          3          1             19               2             1   \n",
       "\n",
       "   prof_screens  sav_screens  ver_screens  prod_rvw_screens  \n",
       "0             1            0            3                 1  \n",
       "1             0            0            4                 2  \n",
       "2             0            0            0                 0  \n",
       "3             0            0            3                 2  \n",
       "4             0            0            4                 3  "
      ]
     },
     "execution_count": 43,
     "metadata": {},
     "output_type": "execute_result"
    }
   ],
   "source": [
    "df.head()"
   ]
  },
  {
   "cell_type": "markdown",
   "id": "0ddc33eb",
   "metadata": {},
   "source": [
    "First, we create a new dataframe containing only the categorical variables:"
   ]
  },
  {
   "cell_type": "code",
   "execution_count": 67,
   "id": "d5f136c3",
   "metadata": {},
   "outputs": [
    {
     "data": {
      "text/html": [
       "<div>\n",
       "<style scoped>\n",
       "    .dataframe tbody tr th:only-of-type {\n",
       "        vertical-align: middle;\n",
       "    }\n",
       "\n",
       "    .dataframe tbody tr th {\n",
       "        vertical-align: top;\n",
       "    }\n",
       "\n",
       "    .dataframe thead th {\n",
       "        text-align: right;\n",
       "    }\n",
       "</style>\n",
       "<table border=\"1\" class=\"dataframe\">\n",
       "  <thead>\n",
       "    <tr style=\"text-align: right;\">\n",
       "      <th></th>\n",
       "      <th>enrolled</th>\n",
       "      <th>dayofweek</th>\n",
       "      <th>hour</th>\n",
       "      <th>minigame</th>\n",
       "      <th>used_premium_feature</th>\n",
       "      <th>liked</th>\n",
       "      <th>dayperiod</th>\n",
       "      <th>age_group</th>\n",
       "    </tr>\n",
       "  </thead>\n",
       "  <tbody>\n",
       "    <tr>\n",
       "      <th>0</th>\n",
       "      <td>0</td>\n",
       "      <td>3</td>\n",
       "      <td>2</td>\n",
       "      <td>0</td>\n",
       "      <td>0</td>\n",
       "      <td>0</td>\n",
       "      <td>0</td>\n",
       "      <td>0</td>\n",
       "    </tr>\n",
       "    <tr>\n",
       "      <th>1</th>\n",
       "      <td>0</td>\n",
       "      <td>6</td>\n",
       "      <td>1</td>\n",
       "      <td>0</td>\n",
       "      <td>0</td>\n",
       "      <td>0</td>\n",
       "      <td>0</td>\n",
       "      <td>0</td>\n",
       "    </tr>\n",
       "    <tr>\n",
       "      <th>2</th>\n",
       "      <td>0</td>\n",
       "      <td>1</td>\n",
       "      <td>19</td>\n",
       "      <td>0</td>\n",
       "      <td>1</td>\n",
       "      <td>1</td>\n",
       "      <td>3</td>\n",
       "      <td>0</td>\n",
       "    </tr>\n",
       "    <tr>\n",
       "      <th>3</th>\n",
       "      <td>1</td>\n",
       "      <td>4</td>\n",
       "      <td>16</td>\n",
       "      <td>0</td>\n",
       "      <td>0</td>\n",
       "      <td>0</td>\n",
       "      <td>2</td>\n",
       "      <td>1</td>\n",
       "    </tr>\n",
       "    <tr>\n",
       "      <th>4</th>\n",
       "      <td>1</td>\n",
       "      <td>1</td>\n",
       "      <td>18</td>\n",
       "      <td>0</td>\n",
       "      <td>0</td>\n",
       "      <td>1</td>\n",
       "      <td>3</td>\n",
       "      <td>1</td>\n",
       "    </tr>\n",
       "  </tbody>\n",
       "</table>\n",
       "</div>"
      ],
      "text/plain": [
       "   enrolled  dayofweek  hour  minigame  used_premium_feature  liked  \\\n",
       "0         0          3     2         0                     0      0   \n",
       "1         0          6     1         0                     0      0   \n",
       "2         0          1    19         0                     1      1   \n",
       "3         1          4    16         0                     0      0   \n",
       "4         1          1    18         0                     0      1   \n",
       "\n",
       "   dayperiod  age_group  \n",
       "0          0          0  \n",
       "1          0          0  \n",
       "2          3          0  \n",
       "3          2          1  \n",
       "4          3          1  "
      ]
     },
     "execution_count": 67,
     "metadata": {},
     "output_type": "execute_result"
    }
   ],
   "source": [
    "categorical = ['enrolled', 'dayofweek', 'hour', 'minigame', 'used_premium_feature', 'liked', 'dayperiod', 'age_group']\n",
    "\n",
    "df_cat = df[categorical]\n",
    "df_cat.head()"
   ]
  },
  {
   "cell_type": "markdown",
   "id": "f21b8d12",
   "metadata": {},
   "source": [
    "Next, we build a list with the help of `itertools.combinations` function. This function can create tuples with all possible and different combinations of a list, as follows:"
   ]
  },
  {
   "cell_type": "code",
   "execution_count": 80,
   "id": "ff323e13",
   "metadata": {},
   "outputs": [
    {
     "data": {
      "text/plain": [
       "[('enrolled', 'dayofweek'),\n",
       " ('enrolled', 'hour'),\n",
       " ('enrolled', 'minigame'),\n",
       " ('enrolled', 'used_premium_feature'),\n",
       " ('enrolled', 'liked'),\n",
       " ('enrolled', 'dayperiod'),\n",
       " ('enrolled', 'age_group'),\n",
       " ('dayofweek', 'hour'),\n",
       " ('dayofweek', 'minigame'),\n",
       " ('dayofweek', 'used_premium_feature'),\n",
       " ('dayofweek', 'liked'),\n",
       " ('dayofweek', 'dayperiod'),\n",
       " ('dayofweek', 'age_group'),\n",
       " ('hour', 'minigame'),\n",
       " ('hour', 'used_premium_feature'),\n",
       " ('hour', 'liked'),\n",
       " ('hour', 'dayperiod'),\n",
       " ('hour', 'age_group'),\n",
       " ('minigame', 'used_premium_feature'),\n",
       " ('minigame', 'liked'),\n",
       " ('minigame', 'dayperiod'),\n",
       " ('minigame', 'age_group'),\n",
       " ('used_premium_feature', 'liked'),\n",
       " ('used_premium_feature', 'dayperiod'),\n",
       " ('used_premium_feature', 'age_group'),\n",
       " ('liked', 'dayperiod'),\n",
       " ('liked', 'age_group'),\n",
       " ('dayperiod', 'age_group')]"
      ]
     },
     "execution_count": 80,
     "metadata": {},
     "output_type": "execute_result"
    }
   ],
   "source": [
    "cat_combinations = combinations(categorical, r=2)\n",
    "all_cat = list(cat_combinations)\n",
    "all_cat"
   ]
  },
  {
   "cell_type": "markdown",
   "id": "2e15b80c",
   "metadata": {},
   "source": [
    "Now, we calculate every p-value for the list items. To do that, we first need to create a crosstab for each category pair. With the help of `chi2_contingency` function of the `scipy.stats` module, we can obtain the p-values, as the p-value corresponds to the second item of the function output:"
   ]
  },
  {
   "cell_type": "code",
   "execution_count": 81,
   "id": "f5e12bad",
   "metadata": {},
   "outputs": [
    {
     "data": {
      "text/plain": [
       "[('enrolled', 'dayofweek', 6.833634078971159e-05),\n",
       " ('enrolled', 'hour', 3.062701176325287e-101),\n",
       " ('enrolled', 'minigame', 3.597655788621121e-120),\n",
       " ('enrolled', 'used_premium_feature', 8.075354394513489e-32),\n",
       " ('enrolled', 'liked', 0.11999900941927215),\n",
       " ('enrolled', 'dayperiod', 9.570024750080955e-54),\n",
       " ('enrolled', 'age_group', 2.8506099470935414e-203),\n",
       " ('dayofweek', 'hour', 2.1708143775683985e-06),\n",
       " ('dayofweek', 'minigame', 0.11556087049073556),\n",
       " ('dayofweek', 'used_premium_feature', 0.0008712486220062564),\n",
       " ('dayofweek', 'liked', 0.11520353667228082),\n",
       " ('dayofweek', 'dayperiod', 4.098458915115461e-10),\n",
       " ('dayofweek', 'age_group', 0.001444483290946781),\n",
       " ('hour', 'minigame', 0.2138478958751414),\n",
       " ('hour', 'used_premium_feature', 6.961995825891043e-10),\n",
       " ('hour', 'liked', 0.5401362221675338),\n",
       " ('hour', 'dayperiod', 0.0),\n",
       " ('hour', 'age_group', 1.7414323257761416e-06),\n",
       " ('minigame', 'used_premium_feature', 1.6712447726751414e-130),\n",
       " ('minigame', 'liked', 0.006014091598988705),\n",
       " ('minigame', 'dayperiod', 0.23627575113069707),\n",
       " ('minigame', 'age_group', 7.338983919682233e-15),\n",
       " ('used_premium_feature', 'liked', 0.7099316353675282),\n",
       " ('used_premium_feature', 'dayperiod', 4.738397574162282e-12),\n",
       " ('used_premium_feature', 'age_group', 4.0787461149180665e-09),\n",
       " ('liked', 'dayperiod', 0.23839408159618844),\n",
       " ('liked', 'age_group', 0.4744082568978668),\n",
       " ('dayperiod', 'age_group', 6.89062995826268e-06)]"
      ]
     },
     "execution_count": 81,
     "metadata": {},
     "output_type": "execute_result"
    }
   ],
   "source": [
    "result = []\n",
    "\n",
    "for cat in all_cat:\n",
    "    \n",
    "    cat_crosstab = pd.crosstab(df_cat[cat[0]], df_cat[cat[1]])\n",
    "    \n",
    "    p_value = chi2_contingency(cat_crosstab)[1]\n",
    "                    \n",
    "    result.append((cat[0],cat[1], p_value))\n",
    "        \n",
    "result"
   ]
  },
  {
   "cell_type": "markdown",
   "id": "fbca09b9",
   "metadata": {},
   "source": [
    "The most relevant fact that we get from this output is that the \"liked\" parameter is not correlated with \"enrolled\", meaning this feature is not relevant to build our model."
   ]
  },
  {
   "cell_type": "code",
   "execution_count": 85,
   "id": "bcdb3d4a",
   "metadata": {},
   "outputs": [],
   "source": [
    "df = df.drop(['liked'] , axis=1)"
   ]
  },
  {
   "cell_type": "markdown",
   "id": "7953b558",
   "metadata": {},
   "source": [
    "**Balanced / Unbalanced data**"
   ]
  },
  {
   "cell_type": "markdown",
   "id": "ab0df57b",
   "metadata": {},
   "source": [
    "We also need to check if we have some unbalanced data in our categories to know if we'll need to adapt our train and test data:"
   ]
  },
  {
   "cell_type": "code",
   "execution_count": 86,
   "id": "9f0a7522",
   "metadata": {},
   "outputs": [
    {
     "data": {
      "image/png": "[encoded data removed]",
      "text/plain": [
       "<Figure size 2000x500 with 2 Axes>"
      ]
     },
     "metadata": {},
     "output_type": "display_data"
    }
   ],
   "source": [
    "_, axes = plt.subplots(1, 2, figsize=(20, 5))\n",
    "\n",
    "sns.countplot(data=df, x='hour', ax=axes[0])\n",
    "sns.countplot(data=df, x='dayperiod', ax=axes[1]);"
   ]
  },
  {
   "cell_type": "markdown",
   "id": "d1c92848",
   "metadata": {},
   "source": [
    "We'll need to account for this hour/dayperiod unbalance when splitting our dataframe in training and test sets."
   ]
  },
  {
   "cell_type": "code",
   "execution_count": 91,
   "id": "b4c8e901",
   "metadata": {},
   "outputs": [
    {
     "data": {
      "image/png": "[encoded data removed]",
      "text/plain": [
       "<Figure size 2000x500 with 2 Axes>"
      ]
     },
     "metadata": {},
     "output_type": "display_data"
    }
   ],
   "source": [
    "_, axes = plt.subplots(1, 2, figsize=(20, 5))\n",
    "\n",
    "sns.countplot(data=df, x='age', ax=axes[0])\n",
    "sns.countplot(data=df, x='age_group', ax=axes[1]);"
   ]
  },
  {
   "cell_type": "markdown",
   "id": "163868cb",
   "metadata": {},
   "source": [
    "As predicted, the user age distribution is right-skewed. We should then use our binned age groups to train the ML model, but not before we decrease the number of groups:"
   ]
  },
  {
   "cell_type": "code",
   "execution_count": 106,
   "id": "9b4a7b1b",
   "metadata": {},
   "outputs": [],
   "source": [
    "# age groups: (0) 18-24 (1) 25-34 (2) 35-44 (3) 45+\n",
    "\n",
    "df['age_group'] = df['age'].apply(lambda age: ((0 if age >= 18 and age <= 24 else 1) if age <= 34 else 2) if age <= 44 else 3)"
   ]
  },
  {
   "cell_type": "code",
   "execution_count": 107,
   "id": "b45bf0f2",
   "metadata": {},
   "outputs": [
    {
     "data": {
      "image/png": "[encoded data removed]",
      "text/plain": [
       "<Figure size 640x480 with 1 Axes>"
      ]
     },
     "metadata": {},
     "output_type": "display_data"
    }
   ],
   "source": [
    "sns.countplot(data=df, x='age_group')\n",
    "\n",
    "plt.show()"
   ]
  },
  {
   "cell_type": "markdown",
   "id": "08795949",
   "metadata": {},
   "source": [
    "This plot is slightly improved, but our data is still unbalanced. This is also something to consider while creating our train and test data. Let's check the other categories:"
   ]
  },
  {
   "cell_type": "code",
   "execution_count": 111,
   "id": "16bf0a24",
   "metadata": {},
   "outputs": [
    {
     "data": {
      "image/png": "[encoded data removed]",
      "text/plain": [
       "<Figure size 2000x500 with 3 Axes>"
      ]
     },
     "metadata": {},
     "output_type": "display_data"
    }
   ],
   "source": [
    "# _, axes = plt.subplots(1, 2, figsize=(20, 5))\n",
    "_, axes = plt.subplots(1, 3, figsize=(20, 5))\n",
    "\n",
    "sns.countplot(data=df, x='minigame', ax=axes[0])\n",
    "sns.countplot(data=df, x='used_premium_feature', ax=axes[1]);\n",
    "sns.countplot(data=df, x='dayofweek', ax=axes[2]);"
   ]
  },
  {
   "cell_type": "markdown",
   "id": "e779ec2a",
   "metadata": {},
   "source": [
    "From all the plots we analyzed, we now know that \"minigame\" and \"used_premium_feature\" are highly unbalanced categories, as \"age_group\" and \"day_period\" (a bit less, but still). The category \"dayofweek\", on the other hand, is balanced enough to train our model. "
   ]
  },
  {
   "cell_type": "markdown",
   "id": "b9fe9790",
   "metadata": {},
   "source": [
    "---"
   ]
  },
  {
   "cell_type": "markdown",
   "id": "00348e8a",
   "metadata": {},
   "source": [
    "## ML algorithms"
   ]
  },
  {
   "cell_type": "markdown",
   "id": "bb26709b",
   "metadata": {},
   "source": [
    "### Data Pipeline"
   ]
  },
  {
   "cell_type": "code",
   "execution_count": 112,
   "id": "edbb1cd0",
   "metadata": {},
   "outputs": [],
   "source": [
    "X = df.drop(['enrolled'] , axis=1)\n",
    "y = df['enrolled']"
   ]
  },
  {
   "cell_type": "code",
   "execution_count": 113,
   "id": "bdf3aa32",
   "metadata": {},
   "outputs": [],
   "source": [
    "X_train, X_test, y_train, y_test = train_test_split(X, y, test_size=0.2, random_state=0)"
   ]
  },
  {
   "cell_type": "code",
   "execution_count": 123,
   "id": "43ae4450",
   "metadata": {},
   "outputs": [],
   "source": [
    "# categorical columns\n",
    "cat_cols = ['dayofweek', 'hour', 'age', 'minigame', 'used_premium_feature', 'dayperiod', 'age_group']\n",
    "\n",
    "# numerical columns\n",
    "num_cols = ['age', 'numscreens']\n",
    "\n",
    "# numerical columns from transformations\n",
    "num_cols_screens = ['total_screens', 'credit_screens', 'loan_screens', 'prof_screens', 'sav_screens', 'ver_screens', 'prod_rvw_screens']"
   ]
  },
  {
   "cell_type": "code",
   "execution_count": 124,
   "id": "95991006",
   "metadata": {},
   "outputs": [],
   "source": [
    "all_num_cols = num_cols + num_cols_screens\n",
    "# all_num_cols"
   ]
  },
  {
   "cell_type": "code",
   "execution_count": 133,
   "id": "f2de5119",
   "metadata": {},
   "outputs": [],
   "source": [
    "def make_pipeline(cat_cols=[], num_cols=[], classifier = RandomForestClassifier(max_depth=10)):\n",
    "    \n",
    "    preprocessor = ColumnTransformer(\n",
    "        [\n",
    "            ('ohe', OneHotEncoder(sparse=False, drop='first', handle_unknown='ignore'), cat_cols),\n",
    "            ('scale', StandardScaler(), num_cols)\n",
    "        ]\n",
    "    )\n",
    "\n",
    "    clf = Pipeline(\n",
    "        steps=[\n",
    "            ('preprocessor', preprocessor),\n",
    "            ('classifier', classifier)\n",
    "        ]\n",
    "    )\n",
    "\n",
    "    return clf\n",
    "#     return preprocessor"
   ]
  },
  {
   "cell_type": "markdown",
   "id": "a6e510e6",
   "metadata": {},
   "source": [
    "<details>\n",
    "<summary>Click here to understand the contents of our pipeline</summary>\n",
    "## Contents\n",
    "</details>"
   ]
  },
  {
   "cell_type": "code",
   "execution_count": 134,
   "id": "ab4ce6ab",
   "metadata": {},
   "outputs": [
    {
     "data": {
      "text/html": [
       "<style>#sk-container-id-4 {color: black;background-color: white;}#sk-container-id-4 pre{padding: 0;}#sk-container-id-4 div.sk-toggleable {background-color: white;}#sk-container-id-4 label.sk-toggleable__label {cursor: pointer;display: block;width: 100%;margin-bottom: 0;padding: 0.3em;box-sizing: border-box;text-align: center;}#sk-container-id-4 label.sk-toggleable__label-arrow:before {content: \"▸\";float: left;margin-right: 0.25em;color: #696969;}#sk-container-id-4 label.sk-toggleable__label-arrow:hover:before {color: black;}#sk-container-id-4 div.sk-estimator:hover label.sk-toggleable__label-arrow:before {color: black;}#sk-container-id-4 div.sk-toggleable__content {max-height: 0;max-width: 0;overflow: hidden;text-align: left;background-color: #f0f8ff;}#sk-container-id-4 div.sk-toggleable__content pre {margin: 0.2em;color: black;border-radius: 0.25em;background-color: #f0f8ff;}#sk-container-id-4 input.sk-toggleable__control:checked~div.sk-toggleable__content {max-height: 200px;max-width: 100%;overflow: auto;}#sk-container-id-4 input.sk-toggleable__control:checked~label.sk-toggleable__label-arrow:before {content: \"▾\";}#sk-container-id-4 div.sk-estimator input.sk-toggleable__control:checked~label.sk-toggleable__label {background-color: #d4ebff;}#sk-container-id-4 div.sk-label input.sk-toggleable__control:checked~label.sk-toggleable__label {background-color: #d4ebff;}#sk-container-id-4 input.sk-hidden--visually {border: 0;clip: rect(1px 1px 1px 1px);clip: rect(1px, 1px, 1px, 1px);height: 1px;margin: -1px;overflow: hidden;padding: 0;position: absolute;width: 1px;}#sk-container-id-4 div.sk-estimator {font-family: monospace;background-color: #f0f8ff;border: 1px dotted black;border-radius: 0.25em;box-sizing: border-box;margin-bottom: 0.5em;}#sk-container-id-4 div.sk-estimator:hover {background-color: #d4ebff;}#sk-container-id-4 div.sk-parallel-item::after {content: \"\";width: 100%;border-bottom: 1px solid gray;flex-grow: 1;}#sk-container-id-4 div.sk-label:hover label.sk-toggleable__label {background-color: #d4ebff;}#sk-container-id-4 div.sk-serial::before {content: \"\";position: absolute;border-left: 1px solid gray;box-sizing: border-box;top: 0;bottom: 0;left: 50%;z-index: 0;}#sk-container-id-4 div.sk-serial {display: flex;flex-direction: column;align-items: center;background-color: white;padding-right: 0.2em;padding-left: 0.2em;position: relative;}#sk-container-id-4 div.sk-item {position: relative;z-index: 1;}#sk-container-id-4 div.sk-parallel {display: flex;align-items: stretch;justify-content: center;background-color: white;position: relative;}#sk-container-id-4 div.sk-item::before, #sk-container-id-4 div.sk-parallel-item::before {content: \"\";position: absolute;border-left: 1px solid gray;box-sizing: border-box;top: 0;bottom: 0;left: 50%;z-index: -1;}#sk-container-id-4 div.sk-parallel-item {display: flex;flex-direction: column;z-index: 1;position: relative;background-color: white;}#sk-container-id-4 div.sk-parallel-item:first-child::after {align-self: flex-end;width: 50%;}#sk-container-id-4 div.sk-parallel-item:last-child::after {align-self: flex-start;width: 50%;}#sk-container-id-4 div.sk-parallel-item:only-child::after {width: 0;}#sk-container-id-4 div.sk-dashed-wrapped {border: 1px dashed gray;margin: 0 0.4em 0.5em 0.4em;box-sizing: border-box;padding-bottom: 0.4em;background-color: white;}#sk-container-id-4 div.sk-label label {font-family: monospace;font-weight: bold;display: inline-block;line-height: 1.2em;}#sk-container-id-4 div.sk-label-container {text-align: center;}#sk-container-id-4 div.sk-container {/* jupyter's `normalize.less` sets `[hidden] { display: none; }` but bootstrap.min.css set `[hidden] { display: none !important; }` so we also need the `!important` here to be able to override the default hidden behavior on the sphinx rendered scikit-learn.org. See: https://github.com/scikit-learn/scikit-learn/issues/21755 */display: inline-block !important;position: relative;}#sk-container-id-4 div.sk-text-repr-fallback {display: none;}</style><div id=\"sk-container-id-4\" class=\"sk-top-container\"><div class=\"sk-text-repr-fallback\"><pre>Pipeline(steps=[(&#x27;preprocessor&#x27;,\n",
       "                 ColumnTransformer(transformers=[(&#x27;ohe&#x27;,\n",
       "                                                  OneHotEncoder(drop=&#x27;first&#x27;,\n",
       "                                                                handle_unknown=&#x27;ignore&#x27;,\n",
       "                                                                sparse=False),\n",
       "                                                  [&#x27;dayofweek&#x27;, &#x27;hour&#x27;, &#x27;age&#x27;,\n",
       "                                                   &#x27;minigame&#x27;,\n",
       "                                                   &#x27;used_premium_feature&#x27;,\n",
       "                                                   &#x27;dayperiod&#x27;, &#x27;age_group&#x27;]),\n",
       "                                                 (&#x27;scale&#x27;, StandardScaler(),\n",
       "                                                  [&#x27;age&#x27;, &#x27;numscreens&#x27;,\n",
       "                                                   &#x27;total_screens&#x27;,\n",
       "                                                   &#x27;credit_screens&#x27;,\n",
       "                                                   &#x27;loan_screens&#x27;,\n",
       "                                                   &#x27;prof_screens&#x27;,\n",
       "                                                   &#x27;sav_screens&#x27;, &#x27;ver_screens&#x27;,\n",
       "                                                   &#x27;prod_rvw_screens&#x27;])])),\n",
       "                (&#x27;classifier&#x27;, RandomForestClassifier(max_depth=10))])</pre><b>In a Jupyter environment, please rerun this cell to show the HTML representation or trust the notebook. <br />On GitHub, the HTML representation is unable to render, please try loading this page with nbviewer.org.</b></div><div class=\"sk-container\" hidden><div class=\"sk-item sk-dashed-wrapped\"><div class=\"sk-label-container\"><div class=\"sk-label sk-toggleable\"><input class=\"sk-toggleable__control sk-hidden--visually\" id=\"sk-estimator-id-22\" type=\"checkbox\" ><label for=\"sk-estimator-id-22\" class=\"sk-toggleable__label sk-toggleable__label-arrow\">Pipeline</label><div class=\"sk-toggleable__content\"><pre>Pipeline(steps=[(&#x27;preprocessor&#x27;,\n",
       "                 ColumnTransformer(transformers=[(&#x27;ohe&#x27;,\n",
       "                                                  OneHotEncoder(drop=&#x27;first&#x27;,\n",
       "                                                                handle_unknown=&#x27;ignore&#x27;,\n",
       "                                                                sparse=False),\n",
       "                                                  [&#x27;dayofweek&#x27;, &#x27;hour&#x27;, &#x27;age&#x27;,\n",
       "                                                   &#x27;minigame&#x27;,\n",
       "                                                   &#x27;used_premium_feature&#x27;,\n",
       "                                                   &#x27;dayperiod&#x27;, &#x27;age_group&#x27;]),\n",
       "                                                 (&#x27;scale&#x27;, StandardScaler(),\n",
       "                                                  [&#x27;age&#x27;, &#x27;numscreens&#x27;,\n",
       "                                                   &#x27;total_screens&#x27;,\n",
       "                                                   &#x27;credit_screens&#x27;,\n",
       "                                                   &#x27;loan_screens&#x27;,\n",
       "                                                   &#x27;prof_screens&#x27;,\n",
       "                                                   &#x27;sav_screens&#x27;, &#x27;ver_screens&#x27;,\n",
       "                                                   &#x27;prod_rvw_screens&#x27;])])),\n",
       "                (&#x27;classifier&#x27;, RandomForestClassifier(max_depth=10))])</pre></div></div></div><div class=\"sk-serial\"><div class=\"sk-item sk-dashed-wrapped\"><div class=\"sk-label-container\"><div class=\"sk-label sk-toggleable\"><input class=\"sk-toggleable__control sk-hidden--visually\" id=\"sk-estimator-id-23\" type=\"checkbox\" ><label for=\"sk-estimator-id-23\" class=\"sk-toggleable__label sk-toggleable__label-arrow\">preprocessor: ColumnTransformer</label><div class=\"sk-toggleable__content\"><pre>ColumnTransformer(transformers=[(&#x27;ohe&#x27;,\n",
       "                                 OneHotEncoder(drop=&#x27;first&#x27;,\n",
       "                                               handle_unknown=&#x27;ignore&#x27;,\n",
       "                                               sparse=False),\n",
       "                                 [&#x27;dayofweek&#x27;, &#x27;hour&#x27;, &#x27;age&#x27;, &#x27;minigame&#x27;,\n",
       "                                  &#x27;used_premium_feature&#x27;, &#x27;dayperiod&#x27;,\n",
       "                                  &#x27;age_group&#x27;]),\n",
       "                                (&#x27;scale&#x27;, StandardScaler(),\n",
       "                                 [&#x27;age&#x27;, &#x27;numscreens&#x27;, &#x27;total_screens&#x27;,\n",
       "                                  &#x27;credit_screens&#x27;, &#x27;loan_screens&#x27;,\n",
       "                                  &#x27;prof_screens&#x27;, &#x27;sav_screens&#x27;, &#x27;ver_screens&#x27;,\n",
       "                                  &#x27;prod_rvw_screens&#x27;])])</pre></div></div></div><div class=\"sk-parallel\"><div class=\"sk-parallel-item\"><div class=\"sk-item\"><div class=\"sk-label-container\"><div class=\"sk-label sk-toggleable\"><input class=\"sk-toggleable__control sk-hidden--visually\" id=\"sk-estimator-id-24\" type=\"checkbox\" ><label for=\"sk-estimator-id-24\" class=\"sk-toggleable__label sk-toggleable__label-arrow\">ohe</label><div class=\"sk-toggleable__content\"><pre>[&#x27;dayofweek&#x27;, &#x27;hour&#x27;, &#x27;age&#x27;, &#x27;minigame&#x27;, &#x27;used_premium_feature&#x27;, &#x27;dayperiod&#x27;, &#x27;age_group&#x27;]</pre></div></div></div><div class=\"sk-serial\"><div class=\"sk-item\"><div class=\"sk-estimator sk-toggleable\"><input class=\"sk-toggleable__control sk-hidden--visually\" id=\"sk-estimator-id-25\" type=\"checkbox\" ><label for=\"sk-estimator-id-25\" class=\"sk-toggleable__label sk-toggleable__label-arrow\">OneHotEncoder</label><div class=\"sk-toggleable__content\"><pre>OneHotEncoder(drop=&#x27;first&#x27;, handle_unknown=&#x27;ignore&#x27;, sparse=False)</pre></div></div></div></div></div></div><div class=\"sk-parallel-item\"><div class=\"sk-item\"><div class=\"sk-label-container\"><div class=\"sk-label sk-toggleable\"><input class=\"sk-toggleable__control sk-hidden--visually\" id=\"sk-estimator-id-26\" type=\"checkbox\" ><label for=\"sk-estimator-id-26\" class=\"sk-toggleable__label sk-toggleable__label-arrow\">scale</label><div class=\"sk-toggleable__content\"><pre>[&#x27;age&#x27;, &#x27;numscreens&#x27;, &#x27;total_screens&#x27;, &#x27;credit_screens&#x27;, &#x27;loan_screens&#x27;, &#x27;prof_screens&#x27;, &#x27;sav_screens&#x27;, &#x27;ver_screens&#x27;, &#x27;prod_rvw_screens&#x27;]</pre></div></div></div><div class=\"sk-serial\"><div class=\"sk-item\"><div class=\"sk-estimator sk-toggleable\"><input class=\"sk-toggleable__control sk-hidden--visually\" id=\"sk-estimator-id-27\" type=\"checkbox\" ><label for=\"sk-estimator-id-27\" class=\"sk-toggleable__label sk-toggleable__label-arrow\">StandardScaler</label><div class=\"sk-toggleable__content\"><pre>StandardScaler()</pre></div></div></div></div></div></div></div></div><div class=\"sk-item\"><div class=\"sk-estimator sk-toggleable\"><input class=\"sk-toggleable__control sk-hidden--visually\" id=\"sk-estimator-id-28\" type=\"checkbox\" ><label for=\"sk-estimator-id-28\" class=\"sk-toggleable__label sk-toggleable__label-arrow\">RandomForestClassifier</label><div class=\"sk-toggleable__content\"><pre>RandomForestClassifier(max_depth=10)</pre></div></div></div></div></div></div></div>"
      ],
      "text/plain": [
       "Pipeline(steps=[('preprocessor',\n",
       "                 ColumnTransformer(transformers=[('ohe',\n",
       "                                                  OneHotEncoder(drop='first',\n",
       "                                                                handle_unknown='ignore',\n",
       "                                                                sparse=False),\n",
       "                                                  ['dayofweek', 'hour', 'age',\n",
       "                                                   'minigame',\n",
       "                                                   'used_premium_feature',\n",
       "                                                   'dayperiod', 'age_group']),\n",
       "                                                 ('scale', StandardScaler(),\n",
       "                                                  ['age', 'numscreens',\n",
       "                                                   'total_screens',\n",
       "                                                   'credit_screens',\n",
       "                                                   'loan_screens',\n",
       "                                                   'prof_screens',\n",
       "                                                   'sav_screens', 'ver_screens',\n",
       "                                                   'prod_rvw_screens'])])),\n",
       "                ('classifier', RandomForestClassifier(max_depth=10))])"
      ]
     },
     "execution_count": 134,
     "metadata": {},
     "output_type": "execute_result"
    }
   ],
   "source": [
    "clf = make_pipeline(cat_cols, all_num_cols)\n",
    "clf"
   ]
  },
  {
   "cell_type": "code",
   "execution_count": 135,
   "id": "f84fb09f",
   "metadata": {},
   "outputs": [],
   "source": [
    "clf.fit(X_train, y_train)\n",
    "\n",
    "# store results in a dictionary \n",
    "results = clf.score(X_test, y_test)"
   ]
  },
  {
   "cell_type": "code",
   "execution_count": 136,
   "id": "1a82a2e2",
   "metadata": {},
   "outputs": [
    {
     "data": {
      "text/plain": [
       "0.7487719298245614"
      ]
     },
     "execution_count": 136,
     "metadata": {},
     "output_type": "execute_result"
    }
   ],
   "source": [
    "results"
   ]
  },
  {
   "cell_type": "markdown",
   "id": "dabd34ac",
   "metadata": {},
   "source": [
    "---"
   ]
  },
  {
   "cell_type": "markdown",
   "id": "b2e5db1b",
   "metadata": {},
   "source": [
    "---"
   ]
  }
 ],
 "metadata": {
  "kernelspec": {
   "display_name": "Python 3 (ipykernel)",
   "language": "python",
   "name": "python3"
  },
  "language_info": {
   "codemirror_mode": {
    "name": "ipython",
    "version": 3
   },
   "file_extension": ".py",
   "mimetype": "text/x-python",
   "name": "python",
   "nbconvert_exporter": "python",
   "pygments_lexer": "ipython3",
   "version": "3.9.13"
  }
 },
 "nbformat": 4,
 "nbformat_minor": 5
}
